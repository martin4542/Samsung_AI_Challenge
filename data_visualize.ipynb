{
 "cells": [
  {
   "cell_type": "code",
   "execution_count": 6,
   "source": [
    "import os\r\n",
    "import numpy as np\r\n",
    "import pandas as pd\r\n",
    "import matplotlib.pyplot as plt\r\n",
    "from openbabel import pybel\r\n",
    "from tqdm import tqdm\r\n"
   ],
   "outputs": [],
   "metadata": {}
  },
  {
   "cell_type": "code",
   "execution_count": 7,
   "source": [
    "def sdf_load(uid, train=True):\r\n",
    "    if train:\r\n",
    "        path = os.path.join('data', 'train_sdf', f'train_{uid}.sdf')\r\n",
    "    else:\r\n",
    "        path = os.path.join('data', 'train_sdf', f'test_{uid}.sdf')\r\n",
    "    return path"
   ],
   "outputs": [],
   "metadata": {}
  },
  {
   "cell_type": "code",
   "execution_count": 8,
   "source": [
    "train_df = pd.read_csv(os.path.join('data', 'train.csv'))\r\n",
    "train_df.head()"
   ],
   "outputs": [
    {
     "output_type": "execute_result",
     "data": {
      "text/plain": [
       "       uid                                             SMILES  S1_energy(eV)  \\\n",
       "0  train_0   CCC1CCCCN1C(=O)C(C)OC(=O)c1c(C)oc(-n2cccc2)c1C#N         4.6747   \n",
       "1  train_1  COc1ccc(Oc2ccc(N3C(=S)NC(c4ccccn4)C3c3cc(C)n(-...         3.6617   \n",
       "2  train_2   CC(=O)Nc1ccc(C(=O)[C@H](C)Sc2nnc(C3CCCCC3)o2)cc1         3.6420   \n",
       "3  train_3                          OC(CNC1CC1)CN1CCc2sccc2C1         4.8901   \n",
       "4  train_4                     CCNC(CCCC(F)(F)F)C1(OCC)CCOCC1         6.4967   \n",
       "\n",
       "   T1_energy(eV)  \n",
       "0         3.3809  \n",
       "1         3.4585  \n",
       "2         3.1787  \n",
       "3         3.7847  \n",
       "4         6.2724  "
      ],
      "text/html": [
       "<div>\n",
       "<style scoped>\n",
       "    .dataframe tbody tr th:only-of-type {\n",
       "        vertical-align: middle;\n",
       "    }\n",
       "\n",
       "    .dataframe tbody tr th {\n",
       "        vertical-align: top;\n",
       "    }\n",
       "\n",
       "    .dataframe thead th {\n",
       "        text-align: right;\n",
       "    }\n",
       "</style>\n",
       "<table border=\"1\" class=\"dataframe\">\n",
       "  <thead>\n",
       "    <tr style=\"text-align: right;\">\n",
       "      <th></th>\n",
       "      <th>uid</th>\n",
       "      <th>SMILES</th>\n",
       "      <th>S1_energy(eV)</th>\n",
       "      <th>T1_energy(eV)</th>\n",
       "    </tr>\n",
       "  </thead>\n",
       "  <tbody>\n",
       "    <tr>\n",
       "      <th>0</th>\n",
       "      <td>train_0</td>\n",
       "      <td>CCC1CCCCN1C(=O)C(C)OC(=O)c1c(C)oc(-n2cccc2)c1C#N</td>\n",
       "      <td>4.6747</td>\n",
       "      <td>3.3809</td>\n",
       "    </tr>\n",
       "    <tr>\n",
       "      <th>1</th>\n",
       "      <td>train_1</td>\n",
       "      <td>COc1ccc(Oc2ccc(N3C(=S)NC(c4ccccn4)C3c3cc(C)n(-...</td>\n",
       "      <td>3.6617</td>\n",
       "      <td>3.4585</td>\n",
       "    </tr>\n",
       "    <tr>\n",
       "      <th>2</th>\n",
       "      <td>train_2</td>\n",
       "      <td>CC(=O)Nc1ccc(C(=O)[C@H](C)Sc2nnc(C3CCCCC3)o2)cc1</td>\n",
       "      <td>3.6420</td>\n",
       "      <td>3.1787</td>\n",
       "    </tr>\n",
       "    <tr>\n",
       "      <th>3</th>\n",
       "      <td>train_3</td>\n",
       "      <td>OC(CNC1CC1)CN1CCc2sccc2C1</td>\n",
       "      <td>4.8901</td>\n",
       "      <td>3.7847</td>\n",
       "    </tr>\n",
       "    <tr>\n",
       "      <th>4</th>\n",
       "      <td>train_4</td>\n",
       "      <td>CCNC(CCCC(F)(F)F)C1(OCC)CCOCC1</td>\n",
       "      <td>6.4967</td>\n",
       "      <td>6.2724</td>\n",
       "    </tr>\n",
       "  </tbody>\n",
       "</table>\n",
       "</div>"
      ]
     },
     "metadata": {},
     "execution_count": 8
    }
   ],
   "metadata": {}
  },
  {
   "cell_type": "code",
   "execution_count": 9,
   "source": [
    "train_df['S1_energy(eV)'].hist(bins=100, alpha=0.5)\r\n",
    "train_df['T1_energy(eV)'].hist(bins=100, alpha=0.5)\r\n",
    "plt.show()"
   ],
   "outputs": [
    {
     "output_type": "display_data",
     "data": {
      "text/plain": [
       "<Figure size 432x288 with 1 Axes>"
      ],
      "image/svg+xml": "<?xml version=\"1.0\" encoding=\"utf-8\" standalone=\"no\"?>\r\n<!DOCTYPE svg PUBLIC \"-//W3C//DTD SVG 1.1//EN\"\r\n  \"http://www.w3.org/Graphics/SVG/1.1/DTD/svg11.dtd\">\r\n<!-- Created with matplotlib (https://matplotlib.org/) -->\r\n<svg height=\"248.518125pt\" version=\"1.1\" viewBox=\"0 0 384.235709 248.518125\" width=\"384.235709pt\" xmlns=\"http://www.w3.org/2000/svg\" xmlns:xlink=\"http://www.w3.org/1999/xlink\">\r\n <metadata>\r\n  <rdf:RDF xmlns:cc=\"http://creativecommons.org/ns#\" xmlns:dc=\"http://purl.org/dc/elements/1.1/\" xmlns:rdf=\"http://www.w3.org/1999/02/22-rdf-syntax-ns#\">\r\n   <cc:Work>\r\n    <dc:type rdf:resource=\"http://purl.org/dc/dcmitype/StillImage\"/>\r\n    <dc:date>2021-08-20T14:40:55.574179</dc:date>\r\n    <dc:format>image/svg+xml</dc:format>\r\n    <dc:creator>\r\n     <cc:Agent>\r\n      <dc:title>Matplotlib v3.3.4, https://matplotlib.org/</dc:title>\r\n     </cc:Agent>\r\n    </dc:creator>\r\n   </cc:Work>\r\n  </rdf:RDF>\r\n </metadata>\r\n <defs>\r\n  <style type=\"text/css\">*{stroke-linecap:butt;stroke-linejoin:round;}</style>\r\n </defs>\r\n <g id=\"figure_1\">\r\n  <g id=\"patch_1\">\r\n   <path d=\"M -0 248.518125 \r\nL 384.235709 248.518125 \r\nL 384.235709 0 \r\nL -0 0 \r\nz\r\n\" style=\"fill:none;\"/>\r\n  </g>\r\n  <g id=\"axes_1\">\r\n   <g id=\"patch_2\">\r\n    <path d=\"M 39.65 224.64 \r\nL 374.45 224.64 \r\nL 374.45 7.2 \r\nL 39.65 7.2 \r\nz\r\n\" style=\"fill:#ffffff;\"/>\r\n   </g>\r\n   <g id=\"patch_3\">\r\n    <path clip-path=\"url(#pa121ef1fb4)\" d=\"M 66.138373 224.64 \r\nL 69.069307 224.64 \r\nL 69.069307 224.447183 \r\nL 66.138373 224.447183 \r\nz\r\n\" style=\"fill:#1f77b4;opacity:0.5;\"/>\r\n   </g>\r\n   <g id=\"patch_4\">\r\n    <path clip-path=\"url(#pa121ef1fb4)\" d=\"M 69.069307 224.64 \r\nL 72.000242 224.64 \r\nL 72.000242 224.447183 \r\nL 69.069307 224.447183 \r\nz\r\n\" style=\"fill:#1f77b4;opacity:0.5;\"/>\r\n   </g>\r\n   <g id=\"patch_5\">\r\n    <path clip-path=\"url(#pa121ef1fb4)\" d=\"M 72.000242 224.64 \r\nL 74.931176 224.64 \r\nL 74.931176 224.64 \r\nL 72.000242 224.64 \r\nz\r\n\" style=\"fill:#1f77b4;opacity:0.5;\"/>\r\n   </g>\r\n   <g id=\"patch_6\">\r\n    <path clip-path=\"url(#pa121ef1fb4)\" d=\"M 74.931176 224.64 \r\nL 77.862111 224.64 \r\nL 77.862111 224.64 \r\nL 74.931176 224.64 \r\nz\r\n\" style=\"fill:#1f77b4;opacity:0.5;\"/>\r\n   </g>\r\n   <g id=\"patch_7\">\r\n    <path clip-path=\"url(#pa121ef1fb4)\" d=\"M 77.862111 224.64 \r\nL 80.793045 224.64 \r\nL 80.793045 224.254366 \r\nL 77.862111 224.254366 \r\nz\r\n\" style=\"fill:#1f77b4;opacity:0.5;\"/>\r\n   </g>\r\n   <g id=\"patch_8\">\r\n    <path clip-path=\"url(#pa121ef1fb4)\" d=\"M 80.793045 224.64 \r\nL 83.72398 224.64 \r\nL 83.72398 224.447183 \r\nL 80.793045 224.447183 \r\nz\r\n\" style=\"fill:#1f77b4;opacity:0.5;\"/>\r\n   </g>\r\n   <g id=\"patch_9\">\r\n    <path clip-path=\"url(#pa121ef1fb4)\" d=\"M 83.72398 224.64 \r\nL 86.654914 224.64 \r\nL 86.654914 223.96514 \r\nL 83.72398 223.96514 \r\nz\r\n\" style=\"fill:#1f77b4;opacity:0.5;\"/>\r\n   </g>\r\n   <g id=\"patch_10\">\r\n    <path clip-path=\"url(#pa121ef1fb4)\" d=\"M 86.654914 224.64 \r\nL 89.585848 224.64 \r\nL 89.585848 224.350774 \r\nL 86.654914 224.350774 \r\nz\r\n\" style=\"fill:#1f77b4;opacity:0.5;\"/>\r\n   </g>\r\n   <g id=\"patch_11\">\r\n    <path clip-path=\"url(#pa121ef1fb4)\" d=\"M 89.585848 224.64 \r\nL 92.516783 224.64 \r\nL 92.516783 223.96514 \r\nL 89.585848 223.96514 \r\nz\r\n\" style=\"fill:#1f77b4;opacity:0.5;\"/>\r\n   </g>\r\n   <g id=\"patch_12\">\r\n    <path clip-path=\"url(#pa121ef1fb4)\" d=\"M 92.516783 224.64 \r\nL 95.447717 224.64 \r\nL 95.447717 223.579505 \r\nL 92.516783 223.579505 \r\nz\r\n\" style=\"fill:#1f77b4;opacity:0.5;\"/>\r\n   </g>\r\n   <g id=\"patch_13\">\r\n    <path clip-path=\"url(#pa121ef1fb4)\" d=\"M 95.447717 224.64 \r\nL 98.378652 224.64 \r\nL 98.378652 223.290279 \r\nL 95.447717 223.290279 \r\nz\r\n\" style=\"fill:#1f77b4;opacity:0.5;\"/>\r\n   </g>\r\n   <g id=\"patch_14\">\r\n    <path clip-path=\"url(#pa121ef1fb4)\" d=\"M 98.378652 224.64 \r\nL 101.309586 224.64 \r\nL 101.309586 223.001053 \r\nL 98.378652 223.001053 \r\nz\r\n\" style=\"fill:#1f77b4;opacity:0.5;\"/>\r\n   </g>\r\n   <g id=\"patch_15\">\r\n    <path clip-path=\"url(#pa121ef1fb4)\" d=\"M 101.309586 224.64 \r\nL 104.240521 224.64 \r\nL 104.240521 221.072881 \r\nL 101.309586 221.072881 \r\nz\r\n\" style=\"fill:#1f77b4;opacity:0.5;\"/>\r\n   </g>\r\n   <g id=\"patch_16\">\r\n    <path clip-path=\"url(#pa121ef1fb4)\" d=\"M 104.240521 224.64 \r\nL 107.171455 224.64 \r\nL 107.171455 219.819569 \r\nL 104.240521 219.819569 \r\nz\r\n\" style=\"fill:#1f77b4;opacity:0.5;\"/>\r\n   </g>\r\n   <g id=\"patch_17\">\r\n    <path clip-path=\"url(#pa121ef1fb4)\" d=\"M 107.171455 224.64 \r\nL 110.10239 224.64 \r\nL 110.10239 218.180623 \r\nL 107.171455 218.180623 \r\nz\r\n\" style=\"fill:#1f77b4;opacity:0.5;\"/>\r\n   </g>\r\n   <g id=\"patch_18\">\r\n    <path clip-path=\"url(#pa121ef1fb4)\" d=\"M 110.10239 224.64 \r\nL 113.033324 224.64 \r\nL 113.033324 217.505762 \r\nL 110.10239 217.505762 \r\nz\r\n\" style=\"fill:#1f77b4;opacity:0.5;\"/>\r\n   </g>\r\n   <g id=\"patch_19\">\r\n    <path clip-path=\"url(#pa121ef1fb4)\" d=\"M 113.033324 224.64 \r\nL 115.964259 224.64 \r\nL 115.964259 214.709912 \r\nL 113.033324 214.709912 \r\nz\r\n\" style=\"fill:#1f77b4;opacity:0.5;\"/>\r\n   </g>\r\n   <g id=\"patch_20\">\r\n    <path clip-path=\"url(#pa121ef1fb4)\" d=\"M 115.964259 224.64 \r\nL 118.895193 224.64 \r\nL 118.895193 208.828986 \r\nL 115.964259 208.828986 \r\nz\r\n\" style=\"fill:#1f77b4;opacity:0.5;\"/>\r\n   </g>\r\n   <g id=\"patch_21\">\r\n    <path clip-path=\"url(#pa121ef1fb4)\" d=\"M 118.895193 224.64 \r\nL 121.826127 224.64 \r\nL 121.826127 206.707997 \r\nL 118.895193 206.707997 \r\nz\r\n\" style=\"fill:#1f77b4;opacity:0.5;\"/>\r\n   </g>\r\n   <g id=\"patch_22\">\r\n    <path clip-path=\"url(#pa121ef1fb4)\" d=\"M 121.826127 224.64 \r\nL 124.757062 224.64 \r\nL 124.757062 204.587007 \r\nL 121.826127 204.587007 \r\nz\r\n\" style=\"fill:#1f77b4;opacity:0.5;\"/>\r\n   </g>\r\n   <g id=\"patch_23\">\r\n    <path clip-path=\"url(#pa121ef1fb4)\" d=\"M 124.757062 224.64 \r\nL 127.687996 224.64 \r\nL 127.687996 200.537845 \r\nL 124.757062 200.537845 \r\nz\r\n\" style=\"fill:#1f77b4;opacity:0.5;\"/>\r\n   </g>\r\n   <g id=\"patch_24\">\r\n    <path clip-path=\"url(#pa121ef1fb4)\" d=\"M 127.687996 224.64 \r\nL 130.618931 224.64 \r\nL 130.618931 192.343113 \r\nL 127.687996 192.343113 \r\nz\r\n\" style=\"fill:#1f77b4;opacity:0.5;\"/>\r\n   </g>\r\n   <g id=\"patch_25\">\r\n    <path clip-path=\"url(#pa121ef1fb4)\" d=\"M 130.618931 224.64 \r\nL 133.549865 224.64 \r\nL 133.549865 188.101133 \r\nL 130.618931 188.101133 \r\nz\r\n\" style=\"fill:#1f77b4;opacity:0.5;\"/>\r\n   </g>\r\n   <g id=\"patch_26\">\r\n    <path clip-path=\"url(#pa121ef1fb4)\" d=\"M 133.549865 224.64 \r\nL 136.4808 224.64 \r\nL 136.4808 177.978228 \r\nL 133.549865 177.978228 \r\nz\r\n\" style=\"fill:#1f77b4;opacity:0.5;\"/>\r\n   </g>\r\n   <g id=\"patch_27\">\r\n    <path clip-path=\"url(#pa121ef1fb4)\" d=\"M 136.4808 224.64 \r\nL 139.411734 224.64 \r\nL 139.411734 168.530184 \r\nL 136.4808 168.530184 \r\nz\r\n\" style=\"fill:#1f77b4;opacity:0.5;\"/>\r\n   </g>\r\n   <g id=\"patch_28\">\r\n    <path clip-path=\"url(#pa121ef1fb4)\" d=\"M 139.411734 224.64 \r\nL 142.342669 224.64 \r\nL 142.342669 167.951732 \r\nL 139.411734 167.951732 \r\nz\r\n\" style=\"fill:#1f77b4;opacity:0.5;\"/>\r\n   </g>\r\n   <g id=\"patch_29\">\r\n    <path clip-path=\"url(#pa121ef1fb4)\" d=\"M 142.342669 224.64 \r\nL 145.273603 224.64 \r\nL 145.273603 154.550934 \r\nL 142.342669 154.550934 \r\nz\r\n\" style=\"fill:#1f77b4;opacity:0.5;\"/>\r\n   </g>\r\n   <g id=\"patch_30\">\r\n    <path clip-path=\"url(#pa121ef1fb4)\" d=\"M 145.273603 224.64 \r\nL 148.204538 224.64 \r\nL 148.204538 137.3902 \r\nL 145.273603 137.3902 \r\nz\r\n\" style=\"fill:#1f77b4;opacity:0.5;\"/>\r\n   </g>\r\n   <g id=\"patch_31\">\r\n    <path clip-path=\"url(#pa121ef1fb4)\" d=\"M 148.204538 224.64 \r\nL 151.135472 224.64 \r\nL 151.135472 126.978069 \r\nL 148.204538 126.978069 \r\nz\r\n\" style=\"fill:#1f77b4;opacity:0.5;\"/>\r\n   </g>\r\n   <g id=\"patch_32\">\r\n    <path clip-path=\"url(#pa121ef1fb4)\" d=\"M 151.135472 224.64 \r\nL 154.066406 224.64 \r\nL 154.066406 114.541357 \r\nL 151.135472 114.541357 \r\nz\r\n\" style=\"fill:#1f77b4;opacity:0.5;\"/>\r\n   </g>\r\n   <g id=\"patch_33\">\r\n    <path clip-path=\"url(#pa121ef1fb4)\" d=\"M 154.066406 224.64 \r\nL 156.997341 224.64 \r\nL 156.997341 88.51103 \r\nL 154.066406 88.51103 \r\nz\r\n\" style=\"fill:#1f77b4;opacity:0.5;\"/>\r\n   </g>\r\n   <g id=\"patch_34\">\r\n    <path clip-path=\"url(#pa121ef1fb4)\" d=\"M 156.997341 224.64 \r\nL 159.928275 224.64 \r\nL 159.928275 97.766257 \r\nL 156.997341 97.766257 \r\nz\r\n\" style=\"fill:#1f77b4;opacity:0.5;\"/>\r\n   </g>\r\n   <g id=\"patch_35\">\r\n    <path clip-path=\"url(#pa121ef1fb4)\" d=\"M 159.928275 224.64 \r\nL 162.85921 224.64 \r\nL 162.85921 102.490279 \r\nL 159.928275 102.490279 \r\nz\r\n\" style=\"fill:#1f77b4;opacity:0.5;\"/>\r\n   </g>\r\n   <g id=\"patch_36\">\r\n    <path clip-path=\"url(#pa121ef1fb4)\" d=\"M 162.85921 224.64 \r\nL 165.790144 224.64 \r\nL 165.790144 78.966576 \r\nL 162.85921 78.966576 \r\nz\r\n\" style=\"fill:#1f77b4;opacity:0.5;\"/>\r\n   </g>\r\n   <g id=\"patch_37\">\r\n    <path clip-path=\"url(#pa121ef1fb4)\" d=\"M 165.790144 224.64 \r\nL 168.721079 224.64 \r\nL 168.721079 86.100814 \r\nL 165.790144 86.100814 \r\nz\r\n\" style=\"fill:#1f77b4;opacity:0.5;\"/>\r\n   </g>\r\n   <g id=\"patch_38\">\r\n    <path clip-path=\"url(#pa121ef1fb4)\" d=\"M 168.721079 224.64 \r\nL 171.652013 224.64 \r\nL 171.652013 75.20664 \r\nL 168.721079 75.20664 \r\nz\r\n\" style=\"fill:#1f77b4;opacity:0.5;\"/>\r\n   </g>\r\n   <g id=\"patch_39\">\r\n    <path clip-path=\"url(#pa121ef1fb4)\" d=\"M 171.652013 224.64 \r\nL 174.582948 224.64 \r\nL 174.582948 62.095068 \r\nL 171.652013 62.095068 \r\nz\r\n\" style=\"fill:#1f77b4;opacity:0.5;\"/>\r\n   </g>\r\n   <g id=\"patch_40\">\r\n    <path clip-path=\"url(#pa121ef1fb4)\" d=\"M 174.582948 224.64 \r\nL 177.513882 224.64 \r\nL 177.513882 60.745347 \r\nL 174.582948 60.745347 \r\nz\r\n\" style=\"fill:#1f77b4;opacity:0.5;\"/>\r\n   </g>\r\n   <g id=\"patch_41\">\r\n    <path clip-path=\"url(#pa121ef1fb4)\" d=\"M 177.513882 224.64 \r\nL 180.444817 224.64 \r\nL 180.444817 53.225475 \r\nL 177.513882 53.225475 \r\nz\r\n\" style=\"fill:#1f77b4;opacity:0.5;\"/>\r\n   </g>\r\n   <g id=\"patch_42\">\r\n    <path clip-path=\"url(#pa121ef1fb4)\" d=\"M 180.444817 224.64 \r\nL 183.375751 224.64 \r\nL 183.375751 72.603607 \r\nL 180.444817 72.603607 \r\nz\r\n\" style=\"fill:#1f77b4;opacity:0.5;\"/>\r\n   </g>\r\n   <g id=\"patch_43\">\r\n    <path clip-path=\"url(#pa121ef1fb4)\" d=\"M 183.375751 224.64 \r\nL 186.306685 224.64 \r\nL 186.306685 85.040319 \r\nL 183.375751 85.040319 \r\nz\r\n\" style=\"fill:#1f77b4;opacity:0.5;\"/>\r\n   </g>\r\n   <g id=\"patch_44\">\r\n    <path clip-path=\"url(#pa121ef1fb4)\" d=\"M 186.306685 224.64 \r\nL 189.23762 224.64 \r\nL 189.23762 91.788923 \r\nL 186.306685 91.788923 \r\nz\r\n\" style=\"fill:#1f77b4;opacity:0.5;\"/>\r\n   </g>\r\n   <g id=\"patch_45\">\r\n    <path clip-path=\"url(#pa121ef1fb4)\" d=\"M 189.23762 224.64 \r\nL 192.168554 224.64 \r\nL 192.168554 131.702091 \r\nL 189.23762 131.702091 \r\nz\r\n\" style=\"fill:#1f77b4;opacity:0.5;\"/>\r\n   </g>\r\n   <g id=\"patch_46\">\r\n    <path clip-path=\"url(#pa121ef1fb4)\" d=\"M 192.168554 224.64 \r\nL 195.099489 224.64 \r\nL 195.099489 158.696504 \r\nL 192.168554 158.696504 \r\nz\r\n\" style=\"fill:#1f77b4;opacity:0.5;\"/>\r\n   </g>\r\n   <g id=\"patch_47\">\r\n    <path clip-path=\"url(#pa121ef1fb4)\" d=\"M 195.099489 224.64 \r\nL 198.030423 224.64 \r\nL 198.030423 159.564182 \r\nL 195.099489 159.564182 \r\nz\r\n\" style=\"fill:#1f77b4;opacity:0.5;\"/>\r\n   </g>\r\n   <g id=\"patch_48\">\r\n    <path clip-path=\"url(#pa121ef1fb4)\" d=\"M 198.030423 224.64 \r\nL 200.961358 224.64 \r\nL 200.961358 180.195626 \r\nL 198.030423 180.195626 \r\nz\r\n\" style=\"fill:#1f77b4;opacity:0.5;\"/>\r\n   </g>\r\n   <g id=\"patch_49\">\r\n    <path clip-path=\"url(#pa121ef1fb4)\" d=\"M 200.961358 224.64 \r\nL 203.892292 224.64 \r\nL 203.892292 177.689002 \r\nL 200.961358 177.689002 \r\nz\r\n\" style=\"fill:#1f77b4;opacity:0.5;\"/>\r\n   </g>\r\n   <g id=\"patch_50\">\r\n    <path clip-path=\"url(#pa121ef1fb4)\" d=\"M 203.892292 224.64 \r\nL 206.823227 224.64 \r\nL 206.823227 194.078468 \r\nL 203.892292 194.078468 \r\nz\r\n\" style=\"fill:#1f77b4;opacity:0.5;\"/>\r\n   </g>\r\n   <g id=\"patch_51\">\r\n    <path clip-path=\"url(#pa121ef1fb4)\" d=\"M 206.823227 224.64 \r\nL 209.754161 224.64 \r\nL 209.754161 203.71933 \r\nL 206.823227 203.71933 \r\nz\r\n\" style=\"fill:#1f77b4;opacity:0.5;\"/>\r\n   </g>\r\n   <g id=\"patch_52\">\r\n    <path clip-path=\"url(#pa121ef1fb4)\" d=\"M 209.754161 224.64 \r\nL 212.685095 224.64 \r\nL 212.685095 210.66075 \r\nL 209.754161 210.66075 \r\nz\r\n\" style=\"fill:#1f77b4;opacity:0.5;\"/>\r\n   </g>\r\n   <g id=\"patch_53\">\r\n    <path clip-path=\"url(#pa121ef1fb4)\" d=\"M 212.685095 224.64 \r\nL 215.61603 224.64 \r\nL 215.61603 211.528428 \r\nL 212.685095 211.528428 \r\nz\r\n\" style=\"fill:#1f77b4;opacity:0.5;\"/>\r\n   </g>\r\n   <g id=\"patch_54\">\r\n    <path clip-path=\"url(#pa121ef1fb4)\" d=\"M 215.61603 224.64 \r\nL 218.546964 224.64 \r\nL 218.546964 212.106879 \r\nL 215.61603 212.106879 \r\nz\r\n\" style=\"fill:#1f77b4;opacity:0.5;\"/>\r\n   </g>\r\n   <g id=\"patch_55\">\r\n    <path clip-path=\"url(#pa121ef1fb4)\" d=\"M 218.546964 224.64 \r\nL 221.477899 224.64 \r\nL 221.477899 214.13146 \r\nL 218.546964 214.13146 \r\nz\r\n\" style=\"fill:#1f77b4;opacity:0.5;\"/>\r\n   </g>\r\n   <g id=\"patch_56\">\r\n    <path clip-path=\"url(#pa121ef1fb4)\" d=\"M 221.477899 224.64 \r\nL 224.408833 224.64 \r\nL 224.408833 215.191955 \r\nL 221.477899 215.191955 \r\nz\r\n\" style=\"fill:#1f77b4;opacity:0.5;\"/>\r\n   </g>\r\n   <g id=\"patch_57\">\r\n    <path clip-path=\"url(#pa121ef1fb4)\" d=\"M 224.408833 224.64 \r\nL 227.339768 224.64 \r\nL 227.339768 216.92731 \r\nL 224.408833 216.92731 \r\nz\r\n\" style=\"fill:#1f77b4;opacity:0.5;\"/>\r\n   </g>\r\n   <g id=\"patch_58\">\r\n    <path clip-path=\"url(#pa121ef1fb4)\" d=\"M 227.339768 224.64 \r\nL 230.270702 224.64 \r\nL 230.270702 217.409354 \r\nL 227.339768 217.409354 \r\nz\r\n\" style=\"fill:#1f77b4;opacity:0.5;\"/>\r\n   </g>\r\n   <g id=\"patch_59\">\r\n    <path clip-path=\"url(#pa121ef1fb4)\" d=\"M 230.270702 224.64 \r\nL 233.201637 224.64 \r\nL 233.201637 219.433935 \r\nL 230.270702 219.433935 \r\nz\r\n\" style=\"fill:#1f77b4;opacity:0.5;\"/>\r\n   </g>\r\n   <g id=\"patch_60\">\r\n    <path clip-path=\"url(#pa121ef1fb4)\" d=\"M 233.201637 224.64 \r\nL 236.132571 224.64 \r\nL 236.132571 222.036967 \r\nL 233.201637 222.036967 \r\nz\r\n\" style=\"fill:#1f77b4;opacity:0.5;\"/>\r\n   </g>\r\n   <g id=\"patch_61\">\r\n    <path clip-path=\"url(#pa121ef1fb4)\" d=\"M 236.132571 224.64 \r\nL 239.063506 224.64 \r\nL 239.063506 222.326193 \r\nL 236.132571 222.326193 \r\nz\r\n\" style=\"fill:#1f77b4;opacity:0.5;\"/>\r\n   </g>\r\n   <g id=\"patch_62\">\r\n    <path clip-path=\"url(#pa121ef1fb4)\" d=\"M 239.063506 224.64 \r\nL 241.99444 224.64 \r\nL 241.99444 222.51901 \r\nL 239.063506 222.51901 \r\nz\r\n\" style=\"fill:#1f77b4;opacity:0.5;\"/>\r\n   </g>\r\n   <g id=\"patch_63\">\r\n    <path clip-path=\"url(#pa121ef1fb4)\" d=\"M 241.99444 224.64 \r\nL 244.925374 224.64 \r\nL 244.925374 223.193871 \r\nL 241.99444 223.193871 \r\nz\r\n\" style=\"fill:#1f77b4;opacity:0.5;\"/>\r\n   </g>\r\n   <g id=\"patch_64\">\r\n    <path clip-path=\"url(#pa121ef1fb4)\" d=\"M 244.925374 224.64 \r\nL 247.856309 224.64 \r\nL 247.856309 222.036967 \r\nL 244.925374 222.036967 \r\nz\r\n\" style=\"fill:#1f77b4;opacity:0.5;\"/>\r\n   </g>\r\n   <g id=\"patch_65\">\r\n    <path clip-path=\"url(#pa121ef1fb4)\" d=\"M 247.856309 224.64 \r\nL 250.787243 224.64 \r\nL 250.787243 222.229785 \r\nL 247.856309 222.229785 \r\nz\r\n\" style=\"fill:#1f77b4;opacity:0.5;\"/>\r\n   </g>\r\n   <g id=\"patch_66\">\r\n    <path clip-path=\"url(#pa121ef1fb4)\" d=\"M 250.787243 224.64 \r\nL 253.718178 224.64 \r\nL 253.718178 223.097462 \r\nL 250.787243 223.097462 \r\nz\r\n\" style=\"fill:#1f77b4;opacity:0.5;\"/>\r\n   </g>\r\n   <g id=\"patch_67\">\r\n    <path clip-path=\"url(#pa121ef1fb4)\" d=\"M 253.718178 224.64 \r\nL 256.649112 224.64 \r\nL 256.649112 223.772322 \r\nL 253.718178 223.772322 \r\nz\r\n\" style=\"fill:#1f77b4;opacity:0.5;\"/>\r\n   </g>\r\n   <g id=\"patch_68\">\r\n    <path clip-path=\"url(#pa121ef1fb4)\" d=\"M 256.649112 224.64 \r\nL 259.580047 224.64 \r\nL 259.580047 223.868731 \r\nL 256.649112 223.868731 \r\nz\r\n\" style=\"fill:#1f77b4;opacity:0.5;\"/>\r\n   </g>\r\n   <g id=\"patch_69\">\r\n    <path clip-path=\"url(#pa121ef1fb4)\" d=\"M 259.580047 224.64 \r\nL 262.510981 224.64 \r\nL 262.510981 223.96514 \r\nL 259.580047 223.96514 \r\nz\r\n\" style=\"fill:#1f77b4;opacity:0.5;\"/>\r\n   </g>\r\n   <g id=\"patch_70\">\r\n    <path clip-path=\"url(#pa121ef1fb4)\" d=\"M 262.510981 224.64 \r\nL 265.441916 224.64 \r\nL 265.441916 224.157957 \r\nL 262.510981 224.157957 \r\nz\r\n\" style=\"fill:#1f77b4;opacity:0.5;\"/>\r\n   </g>\r\n   <g id=\"patch_71\">\r\n    <path clip-path=\"url(#pa121ef1fb4)\" d=\"M 265.441916 224.64 \r\nL 268.37285 224.64 \r\nL 268.37285 224.157957 \r\nL 265.441916 224.157957 \r\nz\r\n\" style=\"fill:#1f77b4;opacity:0.5;\"/>\r\n   </g>\r\n   <g id=\"patch_72\">\r\n    <path clip-path=\"url(#pa121ef1fb4)\" d=\"M 268.37285 224.64 \r\nL 271.303785 224.64 \r\nL 271.303785 223.96514 \r\nL 268.37285 223.96514 \r\nz\r\n\" style=\"fill:#1f77b4;opacity:0.5;\"/>\r\n   </g>\r\n   <g id=\"patch_73\">\r\n    <path clip-path=\"url(#pa121ef1fb4)\" d=\"M 271.303785 224.64 \r\nL 274.234719 224.64 \r\nL 274.234719 224.350774 \r\nL 271.303785 224.350774 \r\nz\r\n\" style=\"fill:#1f77b4;opacity:0.5;\"/>\r\n   </g>\r\n   <g id=\"patch_74\">\r\n    <path clip-path=\"url(#pa121ef1fb4)\" d=\"M 274.234719 224.64 \r\nL 277.165653 224.64 \r\nL 277.165653 224.254366 \r\nL 274.234719 224.254366 \r\nz\r\n\" style=\"fill:#1f77b4;opacity:0.5;\"/>\r\n   </g>\r\n   <g id=\"patch_75\">\r\n    <path clip-path=\"url(#pa121ef1fb4)\" d=\"M 277.165653 224.64 \r\nL 280.096588 224.64 \r\nL 280.096588 224.543591 \r\nL 277.165653 224.543591 \r\nz\r\n\" style=\"fill:#1f77b4;opacity:0.5;\"/>\r\n   </g>\r\n   <g id=\"patch_76\">\r\n    <path clip-path=\"url(#pa121ef1fb4)\" d=\"M 280.096588 224.64 \r\nL 283.027522 224.64 \r\nL 283.027522 224.543591 \r\nL 280.096588 224.543591 \r\nz\r\n\" style=\"fill:#1f77b4;opacity:0.5;\"/>\r\n   </g>\r\n   <g id=\"patch_77\">\r\n    <path clip-path=\"url(#pa121ef1fb4)\" d=\"M 283.027522 224.64 \r\nL 285.958457 224.64 \r\nL 285.958457 224.350774 \r\nL 283.027522 224.350774 \r\nz\r\n\" style=\"fill:#1f77b4;opacity:0.5;\"/>\r\n   </g>\r\n   <g id=\"patch_78\">\r\n    <path clip-path=\"url(#pa121ef1fb4)\" d=\"M 285.958457 224.64 \r\nL 288.889391 224.64 \r\nL 288.889391 224.254366 \r\nL 285.958457 224.254366 \r\nz\r\n\" style=\"fill:#1f77b4;opacity:0.5;\"/>\r\n   </g>\r\n   <g id=\"patch_79\">\r\n    <path clip-path=\"url(#pa121ef1fb4)\" d=\"M 288.889391 224.64 \r\nL 291.820326 224.64 \r\nL 291.820326 224.64 \r\nL 288.889391 224.64 \r\nz\r\n\" style=\"fill:#1f77b4;opacity:0.5;\"/>\r\n   </g>\r\n   <g id=\"patch_80\">\r\n    <path clip-path=\"url(#pa121ef1fb4)\" d=\"M 291.820326 224.64 \r\nL 294.75126 224.64 \r\nL 294.75126 224.64 \r\nL 291.820326 224.64 \r\nz\r\n\" style=\"fill:#1f77b4;opacity:0.5;\"/>\r\n   </g>\r\n   <g id=\"patch_81\">\r\n    <path clip-path=\"url(#pa121ef1fb4)\" d=\"M 294.75126 224.64 \r\nL 297.682195 224.64 \r\nL 297.682195 224.543591 \r\nL 294.75126 224.543591 \r\nz\r\n\" style=\"fill:#1f77b4;opacity:0.5;\"/>\r\n   </g>\r\n   <g id=\"patch_82\">\r\n    <path clip-path=\"url(#pa121ef1fb4)\" d=\"M 297.682195 224.64 \r\nL 300.613129 224.64 \r\nL 300.613129 224.543591 \r\nL 297.682195 224.543591 \r\nz\r\n\" style=\"fill:#1f77b4;opacity:0.5;\"/>\r\n   </g>\r\n   <g id=\"patch_83\">\r\n    <path clip-path=\"url(#pa121ef1fb4)\" d=\"M 300.613129 224.64 \r\nL 303.544064 224.64 \r\nL 303.544064 224.543591 \r\nL 300.613129 224.543591 \r\nz\r\n\" style=\"fill:#1f77b4;opacity:0.5;\"/>\r\n   </g>\r\n   <g id=\"patch_84\">\r\n    <path clip-path=\"url(#pa121ef1fb4)\" d=\"M 303.544064 224.64 \r\nL 306.474998 224.64 \r\nL 306.474998 224.543591 \r\nL 303.544064 224.543591 \r\nz\r\n\" style=\"fill:#1f77b4;opacity:0.5;\"/>\r\n   </g>\r\n   <g id=\"patch_85\">\r\n    <path clip-path=\"url(#pa121ef1fb4)\" d=\"M 306.474998 224.64 \r\nL 309.405932 224.64 \r\nL 309.405932 224.64 \r\nL 306.474998 224.64 \r\nz\r\n\" style=\"fill:#1f77b4;opacity:0.5;\"/>\r\n   </g>\r\n   <g id=\"patch_86\">\r\n    <path clip-path=\"url(#pa121ef1fb4)\" d=\"M 309.405932 224.64 \r\nL 312.336867 224.64 \r\nL 312.336867 224.64 \r\nL 309.405932 224.64 \r\nz\r\n\" style=\"fill:#1f77b4;opacity:0.5;\"/>\r\n   </g>\r\n   <g id=\"patch_87\">\r\n    <path clip-path=\"url(#pa121ef1fb4)\" d=\"M 312.336867 224.64 \r\nL 315.267801 224.64 \r\nL 315.267801 224.64 \r\nL 312.336867 224.64 \r\nz\r\n\" style=\"fill:#1f77b4;opacity:0.5;\"/>\r\n   </g>\r\n   <g id=\"patch_88\">\r\n    <path clip-path=\"url(#pa121ef1fb4)\" d=\"M 315.267801 224.64 \r\nL 318.198736 224.64 \r\nL 318.198736 224.543591 \r\nL 315.267801 224.543591 \r\nz\r\n\" style=\"fill:#1f77b4;opacity:0.5;\"/>\r\n   </g>\r\n   <g id=\"patch_89\">\r\n    <path clip-path=\"url(#pa121ef1fb4)\" d=\"M 318.198736 224.64 \r\nL 321.12967 224.64 \r\nL 321.12967 224.64 \r\nL 318.198736 224.64 \r\nz\r\n\" style=\"fill:#1f77b4;opacity:0.5;\"/>\r\n   </g>\r\n   <g id=\"patch_90\">\r\n    <path clip-path=\"url(#pa121ef1fb4)\" d=\"M 321.12967 224.64 \r\nL 324.060605 224.64 \r\nL 324.060605 224.64 \r\nL 321.12967 224.64 \r\nz\r\n\" style=\"fill:#1f77b4;opacity:0.5;\"/>\r\n   </g>\r\n   <g id=\"patch_91\">\r\n    <path clip-path=\"url(#pa121ef1fb4)\" d=\"M 324.060605 224.64 \r\nL 326.991539 224.64 \r\nL 326.991539 224.64 \r\nL 324.060605 224.64 \r\nz\r\n\" style=\"fill:#1f77b4;opacity:0.5;\"/>\r\n   </g>\r\n   <g id=\"patch_92\">\r\n    <path clip-path=\"url(#pa121ef1fb4)\" d=\"M 326.991539 224.64 \r\nL 329.922474 224.64 \r\nL 329.922474 224.64 \r\nL 326.991539 224.64 \r\nz\r\n\" style=\"fill:#1f77b4;opacity:0.5;\"/>\r\n   </g>\r\n   <g id=\"patch_93\">\r\n    <path clip-path=\"url(#pa121ef1fb4)\" d=\"M 329.922474 224.64 \r\nL 332.853408 224.64 \r\nL 332.853408 224.64 \r\nL 329.922474 224.64 \r\nz\r\n\" style=\"fill:#1f77b4;opacity:0.5;\"/>\r\n   </g>\r\n   <g id=\"patch_94\">\r\n    <path clip-path=\"url(#pa121ef1fb4)\" d=\"M 332.853408 224.64 \r\nL 335.784343 224.64 \r\nL 335.784343 224.64 \r\nL 332.853408 224.64 \r\nz\r\n\" style=\"fill:#1f77b4;opacity:0.5;\"/>\r\n   </g>\r\n   <g id=\"patch_95\">\r\n    <path clip-path=\"url(#pa121ef1fb4)\" d=\"M 335.784343 224.64 \r\nL 338.715277 224.64 \r\nL 338.715277 224.64 \r\nL 335.784343 224.64 \r\nz\r\n\" style=\"fill:#1f77b4;opacity:0.5;\"/>\r\n   </g>\r\n   <g id=\"patch_96\">\r\n    <path clip-path=\"url(#pa121ef1fb4)\" d=\"M 338.715277 224.64 \r\nL 341.646211 224.64 \r\nL 341.646211 224.64 \r\nL 338.715277 224.64 \r\nz\r\n\" style=\"fill:#1f77b4;opacity:0.5;\"/>\r\n   </g>\r\n   <g id=\"patch_97\">\r\n    <path clip-path=\"url(#pa121ef1fb4)\" d=\"M 341.646211 224.64 \r\nL 344.577146 224.64 \r\nL 344.577146 224.64 \r\nL 341.646211 224.64 \r\nz\r\n\" style=\"fill:#1f77b4;opacity:0.5;\"/>\r\n   </g>\r\n   <g id=\"patch_98\">\r\n    <path clip-path=\"url(#pa121ef1fb4)\" d=\"M 344.577146 224.64 \r\nL 347.50808 224.64 \r\nL 347.50808 224.64 \r\nL 344.577146 224.64 \r\nz\r\n\" style=\"fill:#1f77b4;opacity:0.5;\"/>\r\n   </g>\r\n   <g id=\"patch_99\">\r\n    <path clip-path=\"url(#pa121ef1fb4)\" d=\"M 347.50808 224.64 \r\nL 350.439015 224.64 \r\nL 350.439015 224.64 \r\nL 347.50808 224.64 \r\nz\r\n\" style=\"fill:#1f77b4;opacity:0.5;\"/>\r\n   </g>\r\n   <g id=\"patch_100\">\r\n    <path clip-path=\"url(#pa121ef1fb4)\" d=\"M 350.439015 224.64 \r\nL 353.369949 224.64 \r\nL 353.369949 224.64 \r\nL 350.439015 224.64 \r\nz\r\n\" style=\"fill:#1f77b4;opacity:0.5;\"/>\r\n   </g>\r\n   <g id=\"patch_101\">\r\n    <path clip-path=\"url(#pa121ef1fb4)\" d=\"M 353.369949 224.64 \r\nL 356.300884 224.64 \r\nL 356.300884 224.64 \r\nL 353.369949 224.64 \r\nz\r\n\" style=\"fill:#1f77b4;opacity:0.5;\"/>\r\n   </g>\r\n   <g id=\"patch_102\">\r\n    <path clip-path=\"url(#pa121ef1fb4)\" d=\"M 356.300884 224.64 \r\nL 359.231818 224.64 \r\nL 359.231818 224.543591 \r\nL 356.300884 224.543591 \r\nz\r\n\" style=\"fill:#1f77b4;opacity:0.5;\"/>\r\n   </g>\r\n   <g id=\"patch_103\">\r\n    <path clip-path=\"url(#pa121ef1fb4)\" d=\"M 54.868182 224.64 \r\nL 57.714886 224.64 \r\nL 57.714886 223.96514 \r\nL 54.868182 223.96514 \r\nz\r\n\" style=\"fill:#ff7f0e;opacity:0.5;\"/>\r\n   </g>\r\n   <g id=\"patch_104\">\r\n    <path clip-path=\"url(#pa121ef1fb4)\" d=\"M 57.714886 224.64 \r\nL 60.56159 224.64 \r\nL 60.56159 224.254366 \r\nL 57.714886 224.254366 \r\nz\r\n\" style=\"fill:#ff7f0e;opacity:0.5;\"/>\r\n   </g>\r\n   <g id=\"patch_105\">\r\n    <path clip-path=\"url(#pa121ef1fb4)\" d=\"M 60.56159 224.64 \r\nL 63.408295 224.64 \r\nL 63.408295 224.254366 \r\nL 60.56159 224.254366 \r\nz\r\n\" style=\"fill:#ff7f0e;opacity:0.5;\"/>\r\n   </g>\r\n   <g id=\"patch_106\">\r\n    <path clip-path=\"url(#pa121ef1fb4)\" d=\"M 63.408295 224.64 \r\nL 66.254999 224.64 \r\nL 66.254999 224.061548 \r\nL 63.408295 224.061548 \r\nz\r\n\" style=\"fill:#ff7f0e;opacity:0.5;\"/>\r\n   </g>\r\n   <g id=\"patch_107\">\r\n    <path clip-path=\"url(#pa121ef1fb4)\" d=\"M 66.254999 224.64 \r\nL 69.101703 224.64 \r\nL 69.101703 223.290279 \r\nL 66.254999 223.290279 \r\nz\r\n\" style=\"fill:#ff7f0e;opacity:0.5;\"/>\r\n   </g>\r\n   <g id=\"patch_108\">\r\n    <path clip-path=\"url(#pa121ef1fb4)\" d=\"M 69.101703 224.64 \r\nL 71.948408 224.64 \r\nL 71.948408 224.254366 \r\nL 69.101703 224.254366 \r\nz\r\n\" style=\"fill:#ff7f0e;opacity:0.5;\"/>\r\n   </g>\r\n   <g id=\"patch_109\">\r\n    <path clip-path=\"url(#pa121ef1fb4)\" d=\"M 71.948408 224.64 \r\nL 74.795112 224.64 \r\nL 74.795112 223.386688 \r\nL 71.948408 223.386688 \r\nz\r\n\" style=\"fill:#ff7f0e;opacity:0.5;\"/>\r\n   </g>\r\n   <g id=\"patch_110\">\r\n    <path clip-path=\"url(#pa121ef1fb4)\" d=\"M 74.795112 224.64 \r\nL 77.641816 224.64 \r\nL 77.641816 222.422602 \r\nL 74.795112 222.422602 \r\nz\r\n\" style=\"fill:#ff7f0e;opacity:0.5;\"/>\r\n   </g>\r\n   <g id=\"patch_111\">\r\n    <path clip-path=\"url(#pa121ef1fb4)\" d=\"M 77.641816 224.64 \r\nL 80.488521 224.64 \r\nL 80.488521 221.747741 \r\nL 77.641816 221.747741 \r\nz\r\n\" style=\"fill:#ff7f0e;opacity:0.5;\"/>\r\n   </g>\r\n   <g id=\"patch_112\">\r\n    <path clip-path=\"url(#pa121ef1fb4)\" d=\"M 80.488521 224.64 \r\nL 83.335225 224.64 \r\nL 83.335225 218.855483 \r\nL 80.488521 218.855483 \r\nz\r\n\" style=\"fill:#ff7f0e;opacity:0.5;\"/>\r\n   </g>\r\n   <g id=\"patch_113\">\r\n    <path clip-path=\"url(#pa121ef1fb4)\" d=\"M 83.335225 224.64 \r\nL 86.181929 224.64 \r\nL 86.181929 219.915978 \r\nL 83.335225 219.915978 \r\nz\r\n\" style=\"fill:#ff7f0e;opacity:0.5;\"/>\r\n   </g>\r\n   <g id=\"patch_114\">\r\n    <path clip-path=\"url(#pa121ef1fb4)\" d=\"M 86.181929 224.64 \r\nL 89.028634 224.64 \r\nL 89.028634 219.337526 \r\nL 86.181929 219.337526 \r\nz\r\n\" style=\"fill:#ff7f0e;opacity:0.5;\"/>\r\n   </g>\r\n   <g id=\"patch_115\">\r\n    <path clip-path=\"url(#pa121ef1fb4)\" d=\"M 89.028634 224.64 \r\nL 91.875338 224.64 \r\nL 91.875338 214.999138 \r\nL 89.028634 214.999138 \r\nz\r\n\" style=\"fill:#ff7f0e;opacity:0.5;\"/>\r\n   </g>\r\n   <g id=\"patch_116\">\r\n    <path clip-path=\"url(#pa121ef1fb4)\" d=\"M 91.875338 224.64 \r\nL 94.722042 224.64 \r\nL 94.722042 214.324278 \r\nL 91.875338 214.324278 \r\nz\r\n\" style=\"fill:#ff7f0e;opacity:0.5;\"/>\r\n   </g>\r\n   <g id=\"patch_117\">\r\n    <path clip-path=\"url(#pa121ef1fb4)\" d=\"M 94.722042 224.64 \r\nL 97.568747 224.64 \r\nL 97.568747 211.721245 \r\nL 94.722042 211.721245 \r\nz\r\n\" style=\"fill:#ff7f0e;opacity:0.5;\"/>\r\n   </g>\r\n   <g id=\"patch_118\">\r\n    <path clip-path=\"url(#pa121ef1fb4)\" d=\"M 97.568747 224.64 \r\nL 100.415451 224.64 \r\nL 100.415451 207.672083 \r\nL 97.568747 207.672083 \r\nz\r\n\" style=\"fill:#ff7f0e;opacity:0.5;\"/>\r\n   </g>\r\n   <g id=\"patch_119\">\r\n    <path clip-path=\"url(#pa121ef1fb4)\" d=\"M 100.415451 224.64 \r\nL 103.262155 224.64 \r\nL 103.262155 208.154126 \r\nL 100.415451 208.154126 \r\nz\r\n\" style=\"fill:#ff7f0e;opacity:0.5;\"/>\r\n   </g>\r\n   <g id=\"patch_120\">\r\n    <path clip-path=\"url(#pa121ef1fb4)\" d=\"M 103.262155 224.64 \r\nL 106.10886 224.64 \r\nL 106.10886 208.346943 \r\nL 103.262155 208.346943 \r\nz\r\n\" style=\"fill:#ff7f0e;opacity:0.5;\"/>\r\n   </g>\r\n   <g id=\"patch_121\">\r\n    <path clip-path=\"url(#pa121ef1fb4)\" d=\"M 106.10886 224.64 \r\nL 108.955564 224.64 \r\nL 108.955564 196.874318 \r\nL 106.10886 196.874318 \r\nz\r\n\" style=\"fill:#ff7f0e;opacity:0.5;\"/>\r\n   </g>\r\n   <g id=\"patch_122\">\r\n    <path clip-path=\"url(#pa121ef1fb4)\" d=\"M 108.955564 224.64 \r\nL 111.802268 224.64 \r\nL 111.802268 188.293951 \r\nL 108.955564 188.293951 \r\nz\r\n\" style=\"fill:#ff7f0e;opacity:0.5;\"/>\r\n   </g>\r\n   <g id=\"patch_123\">\r\n    <path clip-path=\"url(#pa121ef1fb4)\" d=\"M 111.802268 224.64 \r\nL 114.648973 224.64 \r\nL 114.648973 188.583176 \r\nL 111.802268 188.583176 \r\nz\r\n\" style=\"fill:#ff7f0e;opacity:0.5;\"/>\r\n   </g>\r\n   <g id=\"patch_124\">\r\n    <path clip-path=\"url(#pa121ef1fb4)\" d=\"M 114.648973 224.64 \r\nL 117.495677 224.64 \r\nL 117.495677 182.220208 \r\nL 114.648973 182.220208 \r\nz\r\n\" style=\"fill:#ff7f0e;opacity:0.5;\"/>\r\n   </g>\r\n   <g id=\"patch_125\">\r\n    <path clip-path=\"url(#pa121ef1fb4)\" d=\"M 117.495677 224.64 \r\nL 120.342381 224.64 \r\nL 120.342381 167.469689 \r\nL 117.495677 167.469689 \r\nz\r\n\" style=\"fill:#ff7f0e;opacity:0.5;\"/>\r\n   </g>\r\n   <g id=\"patch_126\">\r\n    <path clip-path=\"url(#pa121ef1fb4)\" d=\"M 120.342381 224.64 \r\nL 123.189086 224.64 \r\nL 123.189086 166.216377 \r\nL 120.342381 166.216377 \r\nz\r\n\" style=\"fill:#ff7f0e;opacity:0.5;\"/>\r\n   </g>\r\n   <g id=\"patch_127\">\r\n    <path clip-path=\"url(#pa121ef1fb4)\" d=\"M 123.189086 224.64 \r\nL 126.03579 224.64 \r\nL 126.03579 151.273041 \r\nL 123.189086 151.273041 \r\nz\r\n\" style=\"fill:#ff7f0e;opacity:0.5;\"/>\r\n   </g>\r\n   <g id=\"patch_128\">\r\n    <path clip-path=\"url(#pa121ef1fb4)\" d=\"M 126.03579 224.64 \r\nL 128.882494 224.64 \r\nL 128.882494 131.220048 \r\nL 126.03579 131.220048 \r\nz\r\n\" style=\"fill:#ff7f0e;opacity:0.5;\"/>\r\n   </g>\r\n   <g id=\"patch_129\">\r\n    <path clip-path=\"url(#pa121ef1fb4)\" d=\"M 128.882494 224.64 \r\nL 131.729199 224.64 \r\nL 131.729199 108.853248 \r\nL 128.882494 108.853248 \r\nz\r\n\" style=\"fill:#ff7f0e;opacity:0.5;\"/>\r\n   </g>\r\n   <g id=\"patch_130\">\r\n    <path clip-path=\"url(#pa121ef1fb4)\" d=\"M 131.729199 224.64 \r\nL 134.575903 224.64 \r\nL 134.575903 96.898579 \r\nL 131.729199 96.898579 \r\nz\r\n\" style=\"fill:#ff7f0e;opacity:0.5;\"/>\r\n   </g>\r\n   <g id=\"patch_131\">\r\n    <path clip-path=\"url(#pa121ef1fb4)\" d=\"M 134.575903 224.64 \r\nL 137.422607 224.64 \r\nL 137.422607 74.146145 \r\nL 134.575903 74.146145 \r\nz\r\n\" style=\"fill:#ff7f0e;opacity:0.5;\"/>\r\n   </g>\r\n   <g id=\"patch_132\">\r\n    <path clip-path=\"url(#pa121ef1fb4)\" d=\"M 137.422607 224.64 \r\nL 140.269312 224.64 \r\nL 140.269312 78.484533 \r\nL 137.422607 78.484533 \r\nz\r\n\" style=\"fill:#ff7f0e;opacity:0.5;\"/>\r\n   </g>\r\n   <g id=\"patch_133\">\r\n    <path clip-path=\"url(#pa121ef1fb4)\" d=\"M 140.269312 224.64 \r\nL 143.116016 224.64 \r\nL 143.116016 73.856919 \r\nL 140.269312 73.856919 \r\nz\r\n\" style=\"fill:#ff7f0e;opacity:0.5;\"/>\r\n   </g>\r\n   <g id=\"patch_134\">\r\n    <path clip-path=\"url(#pa121ef1fb4)\" d=\"M 143.116016 224.64 \r\nL 145.96272 224.64 \r\nL 145.96272 81.858835 \r\nL 143.116016 81.858835 \r\nz\r\n\" style=\"fill:#ff7f0e;opacity:0.5;\"/>\r\n   </g>\r\n   <g id=\"patch_135\">\r\n    <path clip-path=\"url(#pa121ef1fb4)\" d=\"M 145.96272 224.64 \r\nL 148.809425 224.64 \r\nL 148.809425 51.682937 \r\nL 145.96272 51.682937 \r\nz\r\n\" style=\"fill:#ff7f0e;opacity:0.5;\"/>\r\n   </g>\r\n   <g id=\"patch_136\">\r\n    <path clip-path=\"url(#pa121ef1fb4)\" d=\"M 148.809425 224.64 \r\nL 151.656129 224.64 \r\nL 151.656129 53.225475 \r\nL 148.809425 53.225475 \r\nz\r\n\" style=\"fill:#ff7f0e;opacity:0.5;\"/>\r\n   </g>\r\n   <g id=\"patch_137\">\r\n    <path clip-path=\"url(#pa121ef1fb4)\" d=\"M 151.656129 224.64 \r\nL 154.502833 224.64 \r\nL 154.502833 17.554286 \r\nL 151.656129 17.554286 \r\nz\r\n\" style=\"fill:#ff7f0e;opacity:0.5;\"/>\r\n   </g>\r\n   <g id=\"patch_138\">\r\n    <path clip-path=\"url(#pa121ef1fb4)\" d=\"M 154.502833 224.64 \r\nL 157.349538 224.64 \r\nL 157.349538 40.30672 \r\nL 154.502833 40.30672 \r\nz\r\n\" style=\"fill:#ff7f0e;opacity:0.5;\"/>\r\n   </g>\r\n   <g id=\"patch_139\">\r\n    <path clip-path=\"url(#pa121ef1fb4)\" d=\"M 157.349538 224.64 \r\nL 160.196242 224.64 \r\nL 160.196242 53.803927 \r\nL 157.349538 53.803927 \r\nz\r\n\" style=\"fill:#ff7f0e;opacity:0.5;\"/>\r\n   </g>\r\n   <g id=\"patch_140\">\r\n    <path clip-path=\"url(#pa121ef1fb4)\" d=\"M 160.196242 224.64 \r\nL 163.042946 224.64 \r\nL 163.042946 46.57328 \r\nL 160.196242 46.57328 \r\nz\r\n\" style=\"fill:#ff7f0e;opacity:0.5;\"/>\r\n   </g>\r\n   <g id=\"patch_141\">\r\n    <path clip-path=\"url(#pa121ef1fb4)\" d=\"M 163.042946 224.64 \r\nL 165.889651 224.64 \r\nL 165.889651 103.647183 \r\nL 163.042946 103.647183 \r\nz\r\n\" style=\"fill:#ff7f0e;opacity:0.5;\"/>\r\n   </g>\r\n   <g id=\"patch_142\">\r\n    <path clip-path=\"url(#pa121ef1fb4)\" d=\"M 165.889651 224.64 \r\nL 168.736355 224.64 \r\nL 168.736355 174.121883 \r\nL 165.889651 174.121883 \r\nz\r\n\" style=\"fill:#ff7f0e;opacity:0.5;\"/>\r\n   </g>\r\n   <g id=\"patch_143\">\r\n    <path clip-path=\"url(#pa121ef1fb4)\" d=\"M 168.736355 224.64 \r\nL 171.583059 224.64 \r\nL 171.583059 200.730662 \r\nL 168.736355 200.730662 \r\nz\r\n\" style=\"fill:#ff7f0e;opacity:0.5;\"/>\r\n   </g>\r\n   <g id=\"patch_144\">\r\n    <path clip-path=\"url(#pa121ef1fb4)\" d=\"M 171.583059 224.64 \r\nL 174.429764 224.64 \r\nL 174.429764 198.12763 \r\nL 171.583059 198.12763 \r\nz\r\n\" style=\"fill:#ff7f0e;opacity:0.5;\"/>\r\n   </g>\r\n   <g id=\"patch_145\">\r\n    <path clip-path=\"url(#pa121ef1fb4)\" d=\"M 174.429764 224.64 \r\nL 177.276468 224.64 \r\nL 177.276468 200.345028 \r\nL 174.429764 200.345028 \r\nz\r\n\" style=\"fill:#ff7f0e;opacity:0.5;\"/>\r\n   </g>\r\n   <g id=\"patch_146\">\r\n    <path clip-path=\"url(#pa121ef1fb4)\" d=\"M 177.276468 224.64 \r\nL 180.123172 224.64 \r\nL 180.123172 200.152211 \r\nL 177.276468 200.152211 \r\nz\r\n\" style=\"fill:#ff7f0e;opacity:0.5;\"/>\r\n   </g>\r\n   <g id=\"patch_147\">\r\n    <path clip-path=\"url(#pa121ef1fb4)\" d=\"M 180.123172 224.64 \r\nL 182.969877 224.64 \r\nL 182.969877 202.369609 \r\nL 180.123172 202.369609 \r\nz\r\n\" style=\"fill:#ff7f0e;opacity:0.5;\"/>\r\n   </g>\r\n   <g id=\"patch_148\">\r\n    <path clip-path=\"url(#pa121ef1fb4)\" d=\"M 182.969877 224.64 \r\nL 185.816581 224.64 \r\nL 185.816581 201.694749 \r\nL 182.969877 201.694749 \r\nz\r\n\" style=\"fill:#ff7f0e;opacity:0.5;\"/>\r\n   </g>\r\n   <g id=\"patch_149\">\r\n    <path clip-path=\"url(#pa121ef1fb4)\" d=\"M 185.816581 224.64 \r\nL 188.663285 224.64 \r\nL 188.663285 191.282618 \r\nL 185.816581 191.282618 \r\nz\r\n\" style=\"fill:#ff7f0e;opacity:0.5;\"/>\r\n   </g>\r\n   <g id=\"patch_150\">\r\n    <path clip-path=\"url(#pa121ef1fb4)\" d=\"M 188.663285 224.64 \r\nL 191.50999 224.64 \r\nL 191.50999 199.284533 \r\nL 188.663285 199.284533 \r\nz\r\n\" style=\"fill:#ff7f0e;opacity:0.5;\"/>\r\n   </g>\r\n   <g id=\"patch_151\">\r\n    <path clip-path=\"url(#pa121ef1fb4)\" d=\"M 191.50999 224.64 \r\nL 194.356694 224.64 \r\nL 194.356694 209.600255 \r\nL 191.50999 209.600255 \r\nz\r\n\" style=\"fill:#ff7f0e;opacity:0.5;\"/>\r\n   </g>\r\n   <g id=\"patch_152\">\r\n    <path clip-path=\"url(#pa121ef1fb4)\" d=\"M 194.356694 224.64 \r\nL 197.203398 224.64 \r\nL 197.203398 218.855483 \r\nL 194.356694 218.855483 \r\nz\r\n\" style=\"fill:#ff7f0e;opacity:0.5;\"/>\r\n   </g>\r\n   <g id=\"patch_153\">\r\n    <path clip-path=\"url(#pa121ef1fb4)\" d=\"M 197.203398 224.64 \r\nL 200.050103 224.64 \r\nL 200.050103 220.976472 \r\nL 197.203398 220.976472 \r\nz\r\n\" style=\"fill:#ff7f0e;opacity:0.5;\"/>\r\n   </g>\r\n   <g id=\"patch_154\">\r\n    <path clip-path=\"url(#pa121ef1fb4)\" d=\"M 200.050103 224.64 \r\nL 202.896807 224.64 \r\nL 202.896807 222.904645 \r\nL 200.050103 222.904645 \r\nz\r\n\" style=\"fill:#ff7f0e;opacity:0.5;\"/>\r\n   </g>\r\n   <g id=\"patch_155\">\r\n    <path clip-path=\"url(#pa121ef1fb4)\" d=\"M 202.896807 224.64 \r\nL 205.743511 224.64 \r\nL 205.743511 221.458516 \r\nL 202.896807 221.458516 \r\nz\r\n\" style=\"fill:#ff7f0e;opacity:0.5;\"/>\r\n   </g>\r\n   <g id=\"patch_156\">\r\n    <path clip-path=\"url(#pa121ef1fb4)\" d=\"M 205.743511 224.64 \r\nL 208.590216 224.64 \r\nL 208.590216 217.891397 \r\nL 205.743511 217.891397 \r\nz\r\n\" style=\"fill:#ff7f0e;opacity:0.5;\"/>\r\n   </g>\r\n   <g id=\"patch_157\">\r\n    <path clip-path=\"url(#pa121ef1fb4)\" d=\"M 208.590216 224.64 \r\nL 211.43692 224.64 \r\nL 211.43692 216.541676 \r\nL 208.590216 216.541676 \r\nz\r\n\" style=\"fill:#ff7f0e;opacity:0.5;\"/>\r\n   </g>\r\n   <g id=\"patch_158\">\r\n    <path clip-path=\"url(#pa121ef1fb4)\" d=\"M 211.43692 224.64 \r\nL 214.283624 224.64 \r\nL 214.283624 216.830902 \r\nL 211.43692 216.830902 \r\nz\r\n\" style=\"fill:#ff7f0e;opacity:0.5;\"/>\r\n   </g>\r\n   <g id=\"patch_159\">\r\n    <path clip-path=\"url(#pa121ef1fb4)\" d=\"M 214.283624 224.64 \r\nL 217.130329 224.64 \r\nL 217.130329 216.156042 \r\nL 214.283624 216.156042 \r\nz\r\n\" style=\"fill:#ff7f0e;opacity:0.5;\"/>\r\n   </g>\r\n   <g id=\"patch_160\">\r\n    <path clip-path=\"url(#pa121ef1fb4)\" d=\"M 217.130329 224.64 \r\nL 219.977033 224.64 \r\nL 219.977033 217.602171 \r\nL 217.130329 217.602171 \r\nz\r\n\" style=\"fill:#ff7f0e;opacity:0.5;\"/>\r\n   </g>\r\n   <g id=\"patch_161\">\r\n    <path clip-path=\"url(#pa121ef1fb4)\" d=\"M 219.977033 224.64 \r\nL 222.823737 224.64 \r\nL 222.823737 219.337526 \r\nL 219.977033 219.337526 \r\nz\r\n\" style=\"fill:#ff7f0e;opacity:0.5;\"/>\r\n   </g>\r\n   <g id=\"patch_162\">\r\n    <path clip-path=\"url(#pa121ef1fb4)\" d=\"M 222.823737 224.64 \r\nL 225.670442 224.64 \r\nL 225.670442 221.16929 \r\nL 222.823737 221.16929 \r\nz\r\n\" style=\"fill:#ff7f0e;opacity:0.5;\"/>\r\n   </g>\r\n   <g id=\"patch_163\">\r\n    <path clip-path=\"url(#pa121ef1fb4)\" d=\"M 225.670442 224.64 \r\nL 228.517146 224.64 \r\nL 228.517146 223.386688 \r\nL 225.670442 223.386688 \r\nz\r\n\" style=\"fill:#ff7f0e;opacity:0.5;\"/>\r\n   </g>\r\n   <g id=\"patch_164\">\r\n    <path clip-path=\"url(#pa121ef1fb4)\" d=\"M 228.517146 224.64 \r\nL 231.36385 224.64 \r\nL 231.36385 223.001053 \r\nL 228.517146 223.001053 \r\nz\r\n\" style=\"fill:#ff7f0e;opacity:0.5;\"/>\r\n   </g>\r\n   <g id=\"patch_165\">\r\n    <path clip-path=\"url(#pa121ef1fb4)\" d=\"M 231.36385 224.64 \r\nL 234.210554 224.64 \r\nL 234.210554 223.290279 \r\nL 231.36385 223.290279 \r\nz\r\n\" style=\"fill:#ff7f0e;opacity:0.5;\"/>\r\n   </g>\r\n   <g id=\"patch_166\">\r\n    <path clip-path=\"url(#pa121ef1fb4)\" d=\"M 234.210554 224.64 \r\nL 237.057259 224.64 \r\nL 237.057259 223.290279 \r\nL 234.210554 223.290279 \r\nz\r\n\" style=\"fill:#ff7f0e;opacity:0.5;\"/>\r\n   </g>\r\n   <g id=\"patch_167\">\r\n    <path clip-path=\"url(#pa121ef1fb4)\" d=\"M 237.057259 224.64 \r\nL 239.903963 224.64 \r\nL 239.903963 223.193871 \r\nL 237.057259 223.193871 \r\nz\r\n\" style=\"fill:#ff7f0e;opacity:0.5;\"/>\r\n   </g>\r\n   <g id=\"patch_168\">\r\n    <path clip-path=\"url(#pa121ef1fb4)\" d=\"M 239.903963 224.64 \r\nL 242.750667 224.64 \r\nL 242.750667 223.386688 \r\nL 239.903963 223.386688 \r\nz\r\n\" style=\"fill:#ff7f0e;opacity:0.5;\"/>\r\n   </g>\r\n   <g id=\"patch_169\">\r\n    <path clip-path=\"url(#pa121ef1fb4)\" d=\"M 242.750667 224.64 \r\nL 245.597372 224.64 \r\nL 245.597372 223.772322 \r\nL 242.750667 223.772322 \r\nz\r\n\" style=\"fill:#ff7f0e;opacity:0.5;\"/>\r\n   </g>\r\n   <g id=\"patch_170\">\r\n    <path clip-path=\"url(#pa121ef1fb4)\" d=\"M 245.597372 224.64 \r\nL 248.444076 224.64 \r\nL 248.444076 223.772322 \r\nL 245.597372 223.772322 \r\nz\r\n\" style=\"fill:#ff7f0e;opacity:0.5;\"/>\r\n   </g>\r\n   <g id=\"patch_171\">\r\n    <path clip-path=\"url(#pa121ef1fb4)\" d=\"M 248.444076 224.64 \r\nL 251.29078 224.64 \r\nL 251.29078 223.483097 \r\nL 248.444076 223.483097 \r\nz\r\n\" style=\"fill:#ff7f0e;opacity:0.5;\"/>\r\n   </g>\r\n   <g id=\"patch_172\">\r\n    <path clip-path=\"url(#pa121ef1fb4)\" d=\"M 251.29078 224.64 \r\nL 254.137485 224.64 \r\nL 254.137485 224.447183 \r\nL 251.29078 224.447183 \r\nz\r\n\" style=\"fill:#ff7f0e;opacity:0.5;\"/>\r\n   </g>\r\n   <g id=\"patch_173\">\r\n    <path clip-path=\"url(#pa121ef1fb4)\" d=\"M 254.137485 224.64 \r\nL 256.984189 224.64 \r\nL 256.984189 224.350774 \r\nL 254.137485 224.350774 \r\nz\r\n\" style=\"fill:#ff7f0e;opacity:0.5;\"/>\r\n   </g>\r\n   <g id=\"patch_174\">\r\n    <path clip-path=\"url(#pa121ef1fb4)\" d=\"M 256.984189 224.64 \r\nL 259.830893 224.64 \r\nL 259.830893 223.579505 \r\nL 256.984189 223.579505 \r\nz\r\n\" style=\"fill:#ff7f0e;opacity:0.5;\"/>\r\n   </g>\r\n   <g id=\"patch_175\">\r\n    <path clip-path=\"url(#pa121ef1fb4)\" d=\"M 259.830893 224.64 \r\nL 262.677598 224.64 \r\nL 262.677598 224.254366 \r\nL 259.830893 224.254366 \r\nz\r\n\" style=\"fill:#ff7f0e;opacity:0.5;\"/>\r\n   </g>\r\n   <g id=\"patch_176\">\r\n    <path clip-path=\"url(#pa121ef1fb4)\" d=\"M 262.677598 224.64 \r\nL 265.524302 224.64 \r\nL 265.524302 224.350774 \r\nL 262.677598 224.350774 \r\nz\r\n\" style=\"fill:#ff7f0e;opacity:0.5;\"/>\r\n   </g>\r\n   <g id=\"patch_177\">\r\n    <path clip-path=\"url(#pa121ef1fb4)\" d=\"M 265.524302 224.64 \r\nL 268.371006 224.64 \r\nL 268.371006 224.254366 \r\nL 265.524302 224.254366 \r\nz\r\n\" style=\"fill:#ff7f0e;opacity:0.5;\"/>\r\n   </g>\r\n   <g id=\"patch_178\">\r\n    <path clip-path=\"url(#pa121ef1fb4)\" d=\"M 268.371006 224.64 \r\nL 271.217711 224.64 \r\nL 271.217711 224.350774 \r\nL 268.371006 224.350774 \r\nz\r\n\" style=\"fill:#ff7f0e;opacity:0.5;\"/>\r\n   </g>\r\n   <g id=\"patch_179\">\r\n    <path clip-path=\"url(#pa121ef1fb4)\" d=\"M 271.217711 224.64 \r\nL 274.064415 224.64 \r\nL 274.064415 224.350774 \r\nL 271.217711 224.350774 \r\nz\r\n\" style=\"fill:#ff7f0e;opacity:0.5;\"/>\r\n   </g>\r\n   <g id=\"patch_180\">\r\n    <path clip-path=\"url(#pa121ef1fb4)\" d=\"M 274.064415 224.64 \r\nL 276.911119 224.64 \r\nL 276.911119 224.64 \r\nL 274.064415 224.64 \r\nz\r\n\" style=\"fill:#ff7f0e;opacity:0.5;\"/>\r\n   </g>\r\n   <g id=\"patch_181\">\r\n    <path clip-path=\"url(#pa121ef1fb4)\" d=\"M 276.911119 224.64 \r\nL 279.757824 224.64 \r\nL 279.757824 224.447183 \r\nL 276.911119 224.447183 \r\nz\r\n\" style=\"fill:#ff7f0e;opacity:0.5;\"/>\r\n   </g>\r\n   <g id=\"patch_182\">\r\n    <path clip-path=\"url(#pa121ef1fb4)\" d=\"M 279.757824 224.64 \r\nL 282.604528 224.64 \r\nL 282.604528 224.447183 \r\nL 279.757824 224.447183 \r\nz\r\n\" style=\"fill:#ff7f0e;opacity:0.5;\"/>\r\n   </g>\r\n   <g id=\"patch_183\">\r\n    <path clip-path=\"url(#pa121ef1fb4)\" d=\"M 282.604528 224.64 \r\nL 285.451232 224.64 \r\nL 285.451232 224.447183 \r\nL 282.604528 224.447183 \r\nz\r\n\" style=\"fill:#ff7f0e;opacity:0.5;\"/>\r\n   </g>\r\n   <g id=\"patch_184\">\r\n    <path clip-path=\"url(#pa121ef1fb4)\" d=\"M 285.451232 224.64 \r\nL 288.297937 224.64 \r\nL 288.297937 224.447183 \r\nL 285.451232 224.447183 \r\nz\r\n\" style=\"fill:#ff7f0e;opacity:0.5;\"/>\r\n   </g>\r\n   <g id=\"patch_185\">\r\n    <path clip-path=\"url(#pa121ef1fb4)\" d=\"M 288.297937 224.64 \r\nL 291.144641 224.64 \r\nL 291.144641 224.64 \r\nL 288.297937 224.64 \r\nz\r\n\" style=\"fill:#ff7f0e;opacity:0.5;\"/>\r\n   </g>\r\n   <g id=\"patch_186\">\r\n    <path clip-path=\"url(#pa121ef1fb4)\" d=\"M 291.144641 224.64 \r\nL 293.991345 224.64 \r\nL 293.991345 224.350774 \r\nL 291.144641 224.350774 \r\nz\r\n\" style=\"fill:#ff7f0e;opacity:0.5;\"/>\r\n   </g>\r\n   <g id=\"patch_187\">\r\n    <path clip-path=\"url(#pa121ef1fb4)\" d=\"M 293.991345 224.64 \r\nL 296.83805 224.64 \r\nL 296.83805 224.543591 \r\nL 293.991345 224.543591 \r\nz\r\n\" style=\"fill:#ff7f0e;opacity:0.5;\"/>\r\n   </g>\r\n   <g id=\"patch_188\">\r\n    <path clip-path=\"url(#pa121ef1fb4)\" d=\"M 296.83805 224.64 \r\nL 299.684754 224.64 \r\nL 299.684754 224.64 \r\nL 296.83805 224.64 \r\nz\r\n\" style=\"fill:#ff7f0e;opacity:0.5;\"/>\r\n   </g>\r\n   <g id=\"patch_189\">\r\n    <path clip-path=\"url(#pa121ef1fb4)\" d=\"M 299.684754 224.64 \r\nL 302.531458 224.64 \r\nL 302.531458 224.64 \r\nL 299.684754 224.64 \r\nz\r\n\" style=\"fill:#ff7f0e;opacity:0.5;\"/>\r\n   </g>\r\n   <g id=\"patch_190\">\r\n    <path clip-path=\"url(#pa121ef1fb4)\" d=\"M 302.531458 224.64 \r\nL 305.378163 224.64 \r\nL 305.378163 224.64 \r\nL 302.531458 224.64 \r\nz\r\n\" style=\"fill:#ff7f0e;opacity:0.5;\"/>\r\n   </g>\r\n   <g id=\"patch_191\">\r\n    <path clip-path=\"url(#pa121ef1fb4)\" d=\"M 305.378163 224.64 \r\nL 308.224867 224.64 \r\nL 308.224867 224.543591 \r\nL 305.378163 224.543591 \r\nz\r\n\" style=\"fill:#ff7f0e;opacity:0.5;\"/>\r\n   </g>\r\n   <g id=\"patch_192\">\r\n    <path clip-path=\"url(#pa121ef1fb4)\" d=\"M 308.224867 224.64 \r\nL 311.071571 224.64 \r\nL 311.071571 224.64 \r\nL 308.224867 224.64 \r\nz\r\n\" style=\"fill:#ff7f0e;opacity:0.5;\"/>\r\n   </g>\r\n   <g id=\"patch_193\">\r\n    <path clip-path=\"url(#pa121ef1fb4)\" d=\"M 311.071571 224.64 \r\nL 313.918276 224.64 \r\nL 313.918276 224.64 \r\nL 311.071571 224.64 \r\nz\r\n\" style=\"fill:#ff7f0e;opacity:0.5;\"/>\r\n   </g>\r\n   <g id=\"patch_194\">\r\n    <path clip-path=\"url(#pa121ef1fb4)\" d=\"M 313.918276 224.64 \r\nL 316.76498 224.64 \r\nL 316.76498 224.64 \r\nL 313.918276 224.64 \r\nz\r\n\" style=\"fill:#ff7f0e;opacity:0.5;\"/>\r\n   </g>\r\n   <g id=\"patch_195\">\r\n    <path clip-path=\"url(#pa121ef1fb4)\" d=\"M 316.76498 224.64 \r\nL 319.611684 224.64 \r\nL 319.611684 224.64 \r\nL 316.76498 224.64 \r\nz\r\n\" style=\"fill:#ff7f0e;opacity:0.5;\"/>\r\n   </g>\r\n   <g id=\"patch_196\">\r\n    <path clip-path=\"url(#pa121ef1fb4)\" d=\"M 319.611684 224.64 \r\nL 322.458389 224.64 \r\nL 322.458389 224.64 \r\nL 319.611684 224.64 \r\nz\r\n\" style=\"fill:#ff7f0e;opacity:0.5;\"/>\r\n   </g>\r\n   <g id=\"patch_197\">\r\n    <path clip-path=\"url(#pa121ef1fb4)\" d=\"M 322.458389 224.64 \r\nL 325.305093 224.64 \r\nL 325.305093 224.64 \r\nL 322.458389 224.64 \r\nz\r\n\" style=\"fill:#ff7f0e;opacity:0.5;\"/>\r\n   </g>\r\n   <g id=\"patch_198\">\r\n    <path clip-path=\"url(#pa121ef1fb4)\" d=\"M 325.305093 224.64 \r\nL 328.151797 224.64 \r\nL 328.151797 224.64 \r\nL 325.305093 224.64 \r\nz\r\n\" style=\"fill:#ff7f0e;opacity:0.5;\"/>\r\n   </g>\r\n   <g id=\"patch_199\">\r\n    <path clip-path=\"url(#pa121ef1fb4)\" d=\"M 328.151797 224.64 \r\nL 330.998502 224.64 \r\nL 330.998502 224.64 \r\nL 328.151797 224.64 \r\nz\r\n\" style=\"fill:#ff7f0e;opacity:0.5;\"/>\r\n   </g>\r\n   <g id=\"patch_200\">\r\n    <path clip-path=\"url(#pa121ef1fb4)\" d=\"M 330.998502 224.64 \r\nL 333.845206 224.64 \r\nL 333.845206 224.64 \r\nL 330.998502 224.64 \r\nz\r\n\" style=\"fill:#ff7f0e;opacity:0.5;\"/>\r\n   </g>\r\n   <g id=\"patch_201\">\r\n    <path clip-path=\"url(#pa121ef1fb4)\" d=\"M 333.845206 224.64 \r\nL 336.69191 224.64 \r\nL 336.69191 224.64 \r\nL 333.845206 224.64 \r\nz\r\n\" style=\"fill:#ff7f0e;opacity:0.5;\"/>\r\n   </g>\r\n   <g id=\"patch_202\">\r\n    <path clip-path=\"url(#pa121ef1fb4)\" d=\"M 336.69191 224.64 \r\nL 339.538615 224.64 \r\nL 339.538615 224.543591 \r\nL 336.69191 224.543591 \r\nz\r\n\" style=\"fill:#ff7f0e;opacity:0.5;\"/>\r\n   </g>\r\n   <g id=\"matplotlib.axis_1\">\r\n    <g id=\"xtick_1\">\r\n     <g id=\"line2d_1\">\r\n      <path clip-path=\"url(#pa121ef1fb4)\" d=\"M 54.6127 224.64 \r\nL 54.6127 7.2 \r\n\" style=\"fill:none;stroke:#b0b0b0;stroke-linecap:square;stroke-width:0.8;\"/>\r\n     </g>\r\n     <g id=\"line2d_2\">\r\n      <defs>\r\n       <path d=\"M 0 0 \r\nL 0 3.5 \r\n\" id=\"m2e56457c73\" style=\"stroke:#000000;stroke-width:0.8;\"/>\r\n      </defs>\r\n      <g>\r\n       <use style=\"stroke:#000000;stroke-width:0.8;\" x=\"54.6127\" xlink:href=\"#m2e56457c73\" y=\"224.64\"/>\r\n      </g>\r\n     </g>\r\n     <g id=\"text_1\">\r\n      <!-- 0 -->\r\n      <g transform=\"translate(51.43145 239.238438)scale(0.1 -0.1)\">\r\n       <defs>\r\n        <path d=\"M 31.78125 66.40625 \r\nQ 24.171875 66.40625 20.328125 58.90625 \r\nQ 16.5 51.421875 16.5 36.375 \r\nQ 16.5 21.390625 20.328125 13.890625 \r\nQ 24.171875 6.390625 31.78125 6.390625 \r\nQ 39.453125 6.390625 43.28125 13.890625 \r\nQ 47.125 21.390625 47.125 36.375 \r\nQ 47.125 51.421875 43.28125 58.90625 \r\nQ 39.453125 66.40625 31.78125 66.40625 \r\nz\r\nM 31.78125 74.21875 \r\nQ 44.046875 74.21875 50.515625 64.515625 \r\nQ 56.984375 54.828125 56.984375 36.375 \r\nQ 56.984375 17.96875 50.515625 8.265625 \r\nQ 44.046875 -1.421875 31.78125 -1.421875 \r\nQ 19.53125 -1.421875 13.0625 8.265625 \r\nQ 6.59375 17.96875 6.59375 36.375 \r\nQ 6.59375 54.828125 13.0625 64.515625 \r\nQ 19.53125 74.21875 31.78125 74.21875 \r\nz\r\n\" id=\"DejaVuSans-48\"/>\r\n       </defs>\r\n       <use xlink:href=\"#DejaVuSans-48\"/>\r\n      </g>\r\n     </g>\r\n    </g>\r\n    <g id=\"xtick_2\">\r\n     <g id=\"line2d_3\">\r\n      <path clip-path=\"url(#pa121ef1fb4)\" d=\"M 107.289451 224.64 \r\nL 107.289451 7.2 \r\n\" style=\"fill:none;stroke:#b0b0b0;stroke-linecap:square;stroke-width:0.8;\"/>\r\n     </g>\r\n     <g id=\"line2d_4\">\r\n      <g>\r\n       <use style=\"stroke:#000000;stroke-width:0.8;\" x=\"107.289451\" xlink:href=\"#m2e56457c73\" y=\"224.64\"/>\r\n      </g>\r\n     </g>\r\n     <g id=\"text_2\">\r\n      <!-- 2 -->\r\n      <g transform=\"translate(104.108201 239.238438)scale(0.1 -0.1)\">\r\n       <defs>\r\n        <path d=\"M 19.1875 8.296875 \r\nL 53.609375 8.296875 \r\nL 53.609375 0 \r\nL 7.328125 0 \r\nL 7.328125 8.296875 \r\nQ 12.9375 14.109375 22.625 23.890625 \r\nQ 32.328125 33.6875 34.8125 36.53125 \r\nQ 39.546875 41.84375 41.421875 45.53125 \r\nQ 43.3125 49.21875 43.3125 52.78125 \r\nQ 43.3125 58.59375 39.234375 62.25 \r\nQ 35.15625 65.921875 28.609375 65.921875 \r\nQ 23.96875 65.921875 18.8125 64.3125 \r\nQ 13.671875 62.703125 7.8125 59.421875 \r\nL 7.8125 69.390625 \r\nQ 13.765625 71.78125 18.9375 73 \r\nQ 24.125 74.21875 28.421875 74.21875 \r\nQ 39.75 74.21875 46.484375 68.546875 \r\nQ 53.21875 62.890625 53.21875 53.421875 \r\nQ 53.21875 48.921875 51.53125 44.890625 \r\nQ 49.859375 40.875 45.40625 35.40625 \r\nQ 44.1875 33.984375 37.640625 27.21875 \r\nQ 31.109375 20.453125 19.1875 8.296875 \r\nz\r\n\" id=\"DejaVuSans-50\"/>\r\n       </defs>\r\n       <use xlink:href=\"#DejaVuSans-50\"/>\r\n      </g>\r\n     </g>\r\n    </g>\r\n    <g id=\"xtick_3\">\r\n     <g id=\"line2d_5\">\r\n      <path clip-path=\"url(#pa121ef1fb4)\" d=\"M 159.966203 224.64 \r\nL 159.966203 7.2 \r\n\" style=\"fill:none;stroke:#b0b0b0;stroke-linecap:square;stroke-width:0.8;\"/>\r\n     </g>\r\n     <g id=\"line2d_6\">\r\n      <g>\r\n       <use style=\"stroke:#000000;stroke-width:0.8;\" x=\"159.966203\" xlink:href=\"#m2e56457c73\" y=\"224.64\"/>\r\n      </g>\r\n     </g>\r\n     <g id=\"text_3\">\r\n      <!-- 4 -->\r\n      <g transform=\"translate(156.784953 239.238438)scale(0.1 -0.1)\">\r\n       <defs>\r\n        <path d=\"M 37.796875 64.3125 \r\nL 12.890625 25.390625 \r\nL 37.796875 25.390625 \r\nz\r\nM 35.203125 72.90625 \r\nL 47.609375 72.90625 \r\nL 47.609375 25.390625 \r\nL 58.015625 25.390625 \r\nL 58.015625 17.1875 \r\nL 47.609375 17.1875 \r\nL 47.609375 0 \r\nL 37.796875 0 \r\nL 37.796875 17.1875 \r\nL 4.890625 17.1875 \r\nL 4.890625 26.703125 \r\nz\r\n\" id=\"DejaVuSans-52\"/>\r\n       </defs>\r\n       <use xlink:href=\"#DejaVuSans-52\"/>\r\n      </g>\r\n     </g>\r\n    </g>\r\n    <g id=\"xtick_4\">\r\n     <g id=\"line2d_7\">\r\n      <path clip-path=\"url(#pa121ef1fb4)\" d=\"M 212.642954 224.64 \r\nL 212.642954 7.2 \r\n\" style=\"fill:none;stroke:#b0b0b0;stroke-linecap:square;stroke-width:0.8;\"/>\r\n     </g>\r\n     <g id=\"line2d_8\">\r\n      <g>\r\n       <use style=\"stroke:#000000;stroke-width:0.8;\" x=\"212.642954\" xlink:href=\"#m2e56457c73\" y=\"224.64\"/>\r\n      </g>\r\n     </g>\r\n     <g id=\"text_4\">\r\n      <!-- 6 -->\r\n      <g transform=\"translate(209.461704 239.238438)scale(0.1 -0.1)\">\r\n       <defs>\r\n        <path d=\"M 33.015625 40.375 \r\nQ 26.375 40.375 22.484375 35.828125 \r\nQ 18.609375 31.296875 18.609375 23.390625 \r\nQ 18.609375 15.53125 22.484375 10.953125 \r\nQ 26.375 6.390625 33.015625 6.390625 \r\nQ 39.65625 6.390625 43.53125 10.953125 \r\nQ 47.40625 15.53125 47.40625 23.390625 \r\nQ 47.40625 31.296875 43.53125 35.828125 \r\nQ 39.65625 40.375 33.015625 40.375 \r\nz\r\nM 52.59375 71.296875 \r\nL 52.59375 62.3125 \r\nQ 48.875 64.0625 45.09375 64.984375 \r\nQ 41.3125 65.921875 37.59375 65.921875 \r\nQ 27.828125 65.921875 22.671875 59.328125 \r\nQ 17.53125 52.734375 16.796875 39.40625 \r\nQ 19.671875 43.65625 24.015625 45.921875 \r\nQ 28.375 48.1875 33.59375 48.1875 \r\nQ 44.578125 48.1875 50.953125 41.515625 \r\nQ 57.328125 34.859375 57.328125 23.390625 \r\nQ 57.328125 12.15625 50.6875 5.359375 \r\nQ 44.046875 -1.421875 33.015625 -1.421875 \r\nQ 20.359375 -1.421875 13.671875 8.265625 \r\nQ 6.984375 17.96875 6.984375 36.375 \r\nQ 6.984375 53.65625 15.1875 63.9375 \r\nQ 23.390625 74.21875 37.203125 74.21875 \r\nQ 40.921875 74.21875 44.703125 73.484375 \r\nQ 48.484375 72.75 52.59375 71.296875 \r\nz\r\n\" id=\"DejaVuSans-54\"/>\r\n       </defs>\r\n       <use xlink:href=\"#DejaVuSans-54\"/>\r\n      </g>\r\n     </g>\r\n    </g>\r\n    <g id=\"xtick_5\">\r\n     <g id=\"line2d_9\">\r\n      <path clip-path=\"url(#pa121ef1fb4)\" d=\"M 265.319706 224.64 \r\nL 265.319706 7.2 \r\n\" style=\"fill:none;stroke:#b0b0b0;stroke-linecap:square;stroke-width:0.8;\"/>\r\n     </g>\r\n     <g id=\"line2d_10\">\r\n      <g>\r\n       <use style=\"stroke:#000000;stroke-width:0.8;\" x=\"265.319706\" xlink:href=\"#m2e56457c73\" y=\"224.64\"/>\r\n      </g>\r\n     </g>\r\n     <g id=\"text_5\">\r\n      <!-- 8 -->\r\n      <g transform=\"translate(262.138456 239.238438)scale(0.1 -0.1)\">\r\n       <defs>\r\n        <path d=\"M 31.78125 34.625 \r\nQ 24.75 34.625 20.71875 30.859375 \r\nQ 16.703125 27.09375 16.703125 20.515625 \r\nQ 16.703125 13.921875 20.71875 10.15625 \r\nQ 24.75 6.390625 31.78125 6.390625 \r\nQ 38.8125 6.390625 42.859375 10.171875 \r\nQ 46.921875 13.96875 46.921875 20.515625 \r\nQ 46.921875 27.09375 42.890625 30.859375 \r\nQ 38.875 34.625 31.78125 34.625 \r\nz\r\nM 21.921875 38.8125 \r\nQ 15.578125 40.375 12.03125 44.71875 \r\nQ 8.5 49.078125 8.5 55.328125 \r\nQ 8.5 64.0625 14.71875 69.140625 \r\nQ 20.953125 74.21875 31.78125 74.21875 \r\nQ 42.671875 74.21875 48.875 69.140625 \r\nQ 55.078125 64.0625 55.078125 55.328125 \r\nQ 55.078125 49.078125 51.53125 44.71875 \r\nQ 48 40.375 41.703125 38.8125 \r\nQ 48.828125 37.15625 52.796875 32.3125 \r\nQ 56.78125 27.484375 56.78125 20.515625 \r\nQ 56.78125 9.90625 50.3125 4.234375 \r\nQ 43.84375 -1.421875 31.78125 -1.421875 \r\nQ 19.734375 -1.421875 13.25 4.234375 \r\nQ 6.78125 9.90625 6.78125 20.515625 \r\nQ 6.78125 27.484375 10.78125 32.3125 \r\nQ 14.796875 37.15625 21.921875 38.8125 \r\nz\r\nM 18.3125 54.390625 \r\nQ 18.3125 48.734375 21.84375 45.5625 \r\nQ 25.390625 42.390625 31.78125 42.390625 \r\nQ 38.140625 42.390625 41.71875 45.5625 \r\nQ 45.3125 48.734375 45.3125 54.390625 \r\nQ 45.3125 60.0625 41.71875 63.234375 \r\nQ 38.140625 66.40625 31.78125 66.40625 \r\nQ 25.390625 66.40625 21.84375 63.234375 \r\nQ 18.3125 60.0625 18.3125 54.390625 \r\nz\r\n\" id=\"DejaVuSans-56\"/>\r\n       </defs>\r\n       <use xlink:href=\"#DejaVuSans-56\"/>\r\n      </g>\r\n     </g>\r\n    </g>\r\n    <g id=\"xtick_6\">\r\n     <g id=\"line2d_11\">\r\n      <path clip-path=\"url(#pa121ef1fb4)\" d=\"M 317.996457 224.64 \r\nL 317.996457 7.2 \r\n\" style=\"fill:none;stroke:#b0b0b0;stroke-linecap:square;stroke-width:0.8;\"/>\r\n     </g>\r\n     <g id=\"line2d_12\">\r\n      <g>\r\n       <use style=\"stroke:#000000;stroke-width:0.8;\" x=\"317.996457\" xlink:href=\"#m2e56457c73\" y=\"224.64\"/>\r\n      </g>\r\n     </g>\r\n     <g id=\"text_6\">\r\n      <!-- 10 -->\r\n      <g transform=\"translate(311.633957 239.238438)scale(0.1 -0.1)\">\r\n       <defs>\r\n        <path d=\"M 12.40625 8.296875 \r\nL 28.515625 8.296875 \r\nL 28.515625 63.921875 \r\nL 10.984375 60.40625 \r\nL 10.984375 69.390625 \r\nL 28.421875 72.90625 \r\nL 38.28125 72.90625 \r\nL 38.28125 8.296875 \r\nL 54.390625 8.296875 \r\nL 54.390625 0 \r\nL 12.40625 0 \r\nz\r\n\" id=\"DejaVuSans-49\"/>\r\n       </defs>\r\n       <use xlink:href=\"#DejaVuSans-49\"/>\r\n       <use x=\"63.623047\" xlink:href=\"#DejaVuSans-48\"/>\r\n      </g>\r\n     </g>\r\n    </g>\r\n    <g id=\"xtick_7\">\r\n     <g id=\"line2d_13\">\r\n      <path clip-path=\"url(#pa121ef1fb4)\" d=\"M 370.673209 224.64 \r\nL 370.673209 7.2 \r\n\" style=\"fill:none;stroke:#b0b0b0;stroke-linecap:square;stroke-width:0.8;\"/>\r\n     </g>\r\n     <g id=\"line2d_14\">\r\n      <g>\r\n       <use style=\"stroke:#000000;stroke-width:0.8;\" x=\"370.673209\" xlink:href=\"#m2e56457c73\" y=\"224.64\"/>\r\n      </g>\r\n     </g>\r\n     <g id=\"text_7\">\r\n      <!-- 12 -->\r\n      <g transform=\"translate(364.310709 239.238438)scale(0.1 -0.1)\">\r\n       <use xlink:href=\"#DejaVuSans-49\"/>\r\n       <use x=\"63.623047\" xlink:href=\"#DejaVuSans-50\"/>\r\n      </g>\r\n     </g>\r\n    </g>\r\n   </g>\r\n   <g id=\"matplotlib.axis_2\">\r\n    <g id=\"ytick_1\">\r\n     <g id=\"line2d_15\">\r\n      <path clip-path=\"url(#pa121ef1fb4)\" d=\"M 39.65 224.64 \r\nL 374.45 224.64 \r\n\" style=\"fill:none;stroke:#b0b0b0;stroke-linecap:square;stroke-width:0.8;\"/>\r\n     </g>\r\n     <g id=\"line2d_16\">\r\n      <defs>\r\n       <path d=\"M 0 0 \r\nL -3.5 0 \r\n\" id=\"mc9fb360952\" style=\"stroke:#000000;stroke-width:0.8;\"/>\r\n      </defs>\r\n      <g>\r\n       <use style=\"stroke:#000000;stroke-width:0.8;\" x=\"39.65\" xlink:href=\"#mc9fb360952\" y=\"224.64\"/>\r\n      </g>\r\n     </g>\r\n     <g id=\"text_8\">\r\n      <!-- 0 -->\r\n      <g transform=\"translate(26.2875 228.439219)scale(0.1 -0.1)\">\r\n       <use xlink:href=\"#DejaVuSans-48\"/>\r\n      </g>\r\n     </g>\r\n    </g>\r\n    <g id=\"ytick_2\">\r\n     <g id=\"line2d_17\">\r\n      <path clip-path=\"url(#pa121ef1fb4)\" d=\"M 39.65 176.43569 \r\nL 374.45 176.43569 \r\n\" style=\"fill:none;stroke:#b0b0b0;stroke-linecap:square;stroke-width:0.8;\"/>\r\n     </g>\r\n     <g id=\"line2d_18\">\r\n      <g>\r\n       <use style=\"stroke:#000000;stroke-width:0.8;\" x=\"39.65\" xlink:href=\"#mc9fb360952\" y=\"176.43569\"/>\r\n      </g>\r\n     </g>\r\n     <g id=\"text_9\">\r\n      <!-- 500 -->\r\n      <g transform=\"translate(13.5625 180.234909)scale(0.1 -0.1)\">\r\n       <defs>\r\n        <path d=\"M 10.796875 72.90625 \r\nL 49.515625 72.90625 \r\nL 49.515625 64.59375 \r\nL 19.828125 64.59375 \r\nL 19.828125 46.734375 \r\nQ 21.96875 47.46875 24.109375 47.828125 \r\nQ 26.265625 48.1875 28.421875 48.1875 \r\nQ 40.625 48.1875 47.75 41.5 \r\nQ 54.890625 34.8125 54.890625 23.390625 \r\nQ 54.890625 11.625 47.5625 5.09375 \r\nQ 40.234375 -1.421875 26.90625 -1.421875 \r\nQ 22.3125 -1.421875 17.546875 -0.640625 \r\nQ 12.796875 0.140625 7.71875 1.703125 \r\nL 7.71875 11.625 \r\nQ 12.109375 9.234375 16.796875 8.0625 \r\nQ 21.484375 6.890625 26.703125 6.890625 \r\nQ 35.15625 6.890625 40.078125 11.328125 \r\nQ 45.015625 15.765625 45.015625 23.390625 \r\nQ 45.015625 31 40.078125 35.4375 \r\nQ 35.15625 39.890625 26.703125 39.890625 \r\nQ 22.75 39.890625 18.8125 39.015625 \r\nQ 14.890625 38.140625 10.796875 36.28125 \r\nz\r\n\" id=\"DejaVuSans-53\"/>\r\n       </defs>\r\n       <use xlink:href=\"#DejaVuSans-53\"/>\r\n       <use x=\"63.623047\" xlink:href=\"#DejaVuSans-48\"/>\r\n       <use x=\"127.246094\" xlink:href=\"#DejaVuSans-48\"/>\r\n      </g>\r\n     </g>\r\n    </g>\r\n    <g id=\"ytick_3\">\r\n     <g id=\"line2d_19\">\r\n      <path clip-path=\"url(#pa121ef1fb4)\" d=\"M 39.65 128.231381 \r\nL 374.45 128.231381 \r\n\" style=\"fill:none;stroke:#b0b0b0;stroke-linecap:square;stroke-width:0.8;\"/>\r\n     </g>\r\n     <g id=\"line2d_20\">\r\n      <g>\r\n       <use style=\"stroke:#000000;stroke-width:0.8;\" x=\"39.65\" xlink:href=\"#mc9fb360952\" y=\"128.231381\"/>\r\n      </g>\r\n     </g>\r\n     <g id=\"text_10\">\r\n      <!-- 1000 -->\r\n      <g transform=\"translate(7.2 132.030599)scale(0.1 -0.1)\">\r\n       <use xlink:href=\"#DejaVuSans-49\"/>\r\n       <use x=\"63.623047\" xlink:href=\"#DejaVuSans-48\"/>\r\n       <use x=\"127.246094\" xlink:href=\"#DejaVuSans-48\"/>\r\n       <use x=\"190.869141\" xlink:href=\"#DejaVuSans-48\"/>\r\n      </g>\r\n     </g>\r\n    </g>\r\n    <g id=\"ytick_4\">\r\n     <g id=\"line2d_21\">\r\n      <path clip-path=\"url(#pa121ef1fb4)\" d=\"M 39.65 80.027071 \r\nL 374.45 80.027071 \r\n\" style=\"fill:none;stroke:#b0b0b0;stroke-linecap:square;stroke-width:0.8;\"/>\r\n     </g>\r\n     <g id=\"line2d_22\">\r\n      <g>\r\n       <use style=\"stroke:#000000;stroke-width:0.8;\" x=\"39.65\" xlink:href=\"#mc9fb360952\" y=\"80.027071\"/>\r\n      </g>\r\n     </g>\r\n     <g id=\"text_11\">\r\n      <!-- 1500 -->\r\n      <g transform=\"translate(7.2 83.82629)scale(0.1 -0.1)\">\r\n       <use xlink:href=\"#DejaVuSans-49\"/>\r\n       <use x=\"63.623047\" xlink:href=\"#DejaVuSans-53\"/>\r\n       <use x=\"127.246094\" xlink:href=\"#DejaVuSans-48\"/>\r\n       <use x=\"190.869141\" xlink:href=\"#DejaVuSans-48\"/>\r\n      </g>\r\n     </g>\r\n    </g>\r\n    <g id=\"ytick_5\">\r\n     <g id=\"line2d_23\">\r\n      <path clip-path=\"url(#pa121ef1fb4)\" d=\"M 39.65 31.822761 \r\nL 374.45 31.822761 \r\n\" style=\"fill:none;stroke:#b0b0b0;stroke-linecap:square;stroke-width:0.8;\"/>\r\n     </g>\r\n     <g id=\"line2d_24\">\r\n      <g>\r\n       <use style=\"stroke:#000000;stroke-width:0.8;\" x=\"39.65\" xlink:href=\"#mc9fb360952\" y=\"31.822761\"/>\r\n      </g>\r\n     </g>\r\n     <g id=\"text_12\">\r\n      <!-- 2000 -->\r\n      <g transform=\"translate(7.2 35.62198)scale(0.1 -0.1)\">\r\n       <use xlink:href=\"#DejaVuSans-50\"/>\r\n       <use x=\"63.623047\" xlink:href=\"#DejaVuSans-48\"/>\r\n       <use x=\"127.246094\" xlink:href=\"#DejaVuSans-48\"/>\r\n       <use x=\"190.869141\" xlink:href=\"#DejaVuSans-48\"/>\r\n      </g>\r\n     </g>\r\n    </g>\r\n   </g>\r\n   <g id=\"patch_203\">\r\n    <path d=\"M 39.65 224.64 \r\nL 39.65 7.2 \r\n\" style=\"fill:none;stroke:#000000;stroke-linecap:square;stroke-linejoin:miter;stroke-width:0.8;\"/>\r\n   </g>\r\n   <g id=\"patch_204\">\r\n    <path d=\"M 374.45 224.64 \r\nL 374.45 7.2 \r\n\" style=\"fill:none;stroke:#000000;stroke-linecap:square;stroke-linejoin:miter;stroke-width:0.8;\"/>\r\n   </g>\r\n   <g id=\"patch_205\">\r\n    <path d=\"M 39.65 224.64 \r\nL 374.45 224.64 \r\n\" style=\"fill:none;stroke:#000000;stroke-linecap:square;stroke-linejoin:miter;stroke-width:0.8;\"/>\r\n   </g>\r\n   <g id=\"patch_206\">\r\n    <path d=\"M 39.65 7.2 \r\nL 374.45 7.2 \r\n\" style=\"fill:none;stroke:#000000;stroke-linecap:square;stroke-linejoin:miter;stroke-width:0.8;\"/>\r\n   </g>\r\n  </g>\r\n </g>\r\n <defs>\r\n  <clipPath id=\"pa121ef1fb4\">\r\n   <rect height=\"217.44\" width=\"334.8\" x=\"39.65\" y=\"7.2\"/>\r\n  </clipPath>\r\n </defs>\r\n</svg>\r\n",
      "image/png": "[encoded data removed]"
     },
     "metadata": {
      "needs_background": "light"
     }
    }
   ],
   "metadata": {}
  },
  {
   "cell_type": "markdown",
   "source": [
    "# Remove abnormal sdf files"
   ],
   "metadata": {}
  },
  {
   "cell_type": "code",
   "execution_count": 10,
   "source": [
    "mols = dict()\r\n",
    "\r\n",
    "for n in tqdm(train_df.index):\r\n",
    "    mol = [i for i in pybel.readfile('sdf', sdf_load(n))]\r\n",
    "    if len(mol) > 0:\r\n",
    "        mols[n] = mol[0]"
   ],
   "outputs": [
    {
     "output_type": "stream",
     "name": "stderr",
     "text": [
      "100%|██████████| 30274/30274 [00:32<00:00, 920.32it/s]\n"
     ]
    }
   ],
   "metadata": {}
  },
  {
   "cell_type": "code",
   "execution_count": 11,
   "source": [
    "set([i for i in range(train_df.shape[0])]) - set(mols.keys())"
   ],
   "outputs": [],
   "metadata": {}
  },
  {
   "cell_type": "code",
   "execution_count": 12,
   "source": [
    "mols_df = pd.DataFrame().from_dict({n:v.calcdesc() for n, v in mols.items()}).transpose()\r\n",
    "mols_df = mols_df.dropna(axis=1)\r\n",
    "mols_df.loc[:,'uid'] = [f'train_{n}' for n in mols.keys()]\r\n",
    "\r\n",
    "df = pd.merge(train_df, mols_df, 'outer', on='uid').dropna()\r\n",
    "df['y'] = df['S1_energy(eV)'] - df['T1_energy(eV)']\r\n",
    "\r\n",
    "df = df.reset_index(drop=True)\r\n",
    "df.head()"
   ],
   "outputs": [
    {
     "output_type": "execute_result",
     "data": {
      "text/plain": [
       "       uid                                             SMILES  S1_energy(eV)  \\\n",
       "0  train_0   CCC1CCCCN1C(=O)C(C)OC(=O)c1c(C)oc(-n2cccc2)c1C#N         4.6747   \n",
       "1  train_1  COc1ccc(Oc2ccc(N3C(=S)NC(c4ccccn4)C3c3cc(C)n(-...         3.6617   \n",
       "2  train_2   CC(=O)Nc1ccc(C(=O)[C@H](C)Sc2nnc(C3CCCCC3)o2)cc1         3.6420   \n",
       "3  train_3                          OC(CNC1CC1)CN1CCc2sccc2C1         4.8901   \n",
       "4  train_4                     CCNC(CCCC(F)(F)F)C1(OCC)CCOCC1         6.4967   \n",
       "\n",
       "   T1_energy(eV)  HBA1  HBA2  HBD  logP   MR         MW   nF  rotors  TPSA  \\\n",
       "0         3.3809  30.0   7.0  0.0   0.0  0.0  383.44090  0.0     7.0   0.0   \n",
       "1         3.4585  36.0   8.0  2.0   0.0  0.0  597.12636  0.0     7.0   0.0   \n",
       "2         3.1787  29.0   7.0  1.0   0.0  0.0  373.46922  0.0     7.0   0.0   \n",
       "3         3.7847  23.0   4.0  2.0   0.0  0.0  252.37570  0.0     5.0   0.0   \n",
       "4         6.2724  29.0   3.0  1.0   0.0  0.0  297.35695  3.0     9.0   0.0   \n",
       "\n",
       "        y  \n",
       "0  1.2938  \n",
       "1  0.2032  \n",
       "2  0.4633  \n",
       "3  1.1054  \n",
       "4  0.2243  "
      ],
      "text/html": [
       "<div>\n",
       "<style scoped>\n",
       "    .dataframe tbody tr th:only-of-type {\n",
       "        vertical-align: middle;\n",
       "    }\n",
       "\n",
       "    .dataframe tbody tr th {\n",
       "        vertical-align: top;\n",
       "    }\n",
       "\n",
       "    .dataframe thead th {\n",
       "        text-align: right;\n",
       "    }\n",
       "</style>\n",
       "<table border=\"1\" class=\"dataframe\">\n",
       "  <thead>\n",
       "    <tr style=\"text-align: right;\">\n",
       "      <th></th>\n",
       "      <th>uid</th>\n",
       "      <th>SMILES</th>\n",
       "      <th>S1_energy(eV)</th>\n",
       "      <th>T1_energy(eV)</th>\n",
       "      <th>HBA1</th>\n",
       "      <th>HBA2</th>\n",
       "      <th>HBD</th>\n",
       "      <th>logP</th>\n",
       "      <th>MR</th>\n",
       "      <th>MW</th>\n",
       "      <th>nF</th>\n",
       "      <th>rotors</th>\n",
       "      <th>TPSA</th>\n",
       "      <th>y</th>\n",
       "    </tr>\n",
       "  </thead>\n",
       "  <tbody>\n",
       "    <tr>\n",
       "      <th>0</th>\n",
       "      <td>train_0</td>\n",
       "      <td>CCC1CCCCN1C(=O)C(C)OC(=O)c1c(C)oc(-n2cccc2)c1C#N</td>\n",
       "      <td>4.6747</td>\n",
       "      <td>3.3809</td>\n",
       "      <td>30.0</td>\n",
       "      <td>7.0</td>\n",
       "      <td>0.0</td>\n",
       "      <td>0.0</td>\n",
       "      <td>0.0</td>\n",
       "      <td>383.44090</td>\n",
       "      <td>0.0</td>\n",
       "      <td>7.0</td>\n",
       "      <td>0.0</td>\n",
       "      <td>1.2938</td>\n",
       "    </tr>\n",
       "    <tr>\n",
       "      <th>1</th>\n",
       "      <td>train_1</td>\n",
       "      <td>COc1ccc(Oc2ccc(N3C(=S)NC(c4ccccn4)C3c3cc(C)n(-...</td>\n",
       "      <td>3.6617</td>\n",
       "      <td>3.4585</td>\n",
       "      <td>36.0</td>\n",
       "      <td>8.0</td>\n",
       "      <td>2.0</td>\n",
       "      <td>0.0</td>\n",
       "      <td>0.0</td>\n",
       "      <td>597.12636</td>\n",
       "      <td>0.0</td>\n",
       "      <td>7.0</td>\n",
       "      <td>0.0</td>\n",
       "      <td>0.2032</td>\n",
       "    </tr>\n",
       "    <tr>\n",
       "      <th>2</th>\n",
       "      <td>train_2</td>\n",
       "      <td>CC(=O)Nc1ccc(C(=O)[C@H](C)Sc2nnc(C3CCCCC3)o2)cc1</td>\n",
       "      <td>3.6420</td>\n",
       "      <td>3.1787</td>\n",
       "      <td>29.0</td>\n",
       "      <td>7.0</td>\n",
       "      <td>1.0</td>\n",
       "      <td>0.0</td>\n",
       "      <td>0.0</td>\n",
       "      <td>373.46922</td>\n",
       "      <td>0.0</td>\n",
       "      <td>7.0</td>\n",
       "      <td>0.0</td>\n",
       "      <td>0.4633</td>\n",
       "    </tr>\n",
       "    <tr>\n",
       "      <th>3</th>\n",
       "      <td>train_3</td>\n",
       "      <td>OC(CNC1CC1)CN1CCc2sccc2C1</td>\n",
       "      <td>4.8901</td>\n",
       "      <td>3.7847</td>\n",
       "      <td>23.0</td>\n",
       "      <td>4.0</td>\n",
       "      <td>2.0</td>\n",
       "      <td>0.0</td>\n",
       "      <td>0.0</td>\n",
       "      <td>252.37570</td>\n",
       "      <td>0.0</td>\n",
       "      <td>5.0</td>\n",
       "      <td>0.0</td>\n",
       "      <td>1.1054</td>\n",
       "    </tr>\n",
       "    <tr>\n",
       "      <th>4</th>\n",
       "      <td>train_4</td>\n",
       "      <td>CCNC(CCCC(F)(F)F)C1(OCC)CCOCC1</td>\n",
       "      <td>6.4967</td>\n",
       "      <td>6.2724</td>\n",
       "      <td>29.0</td>\n",
       "      <td>3.0</td>\n",
       "      <td>1.0</td>\n",
       "      <td>0.0</td>\n",
       "      <td>0.0</td>\n",
       "      <td>297.35695</td>\n",
       "      <td>3.0</td>\n",
       "      <td>9.0</td>\n",
       "      <td>0.0</td>\n",
       "      <td>0.2243</td>\n",
       "    </tr>\n",
       "  </tbody>\n",
       "</table>\n",
       "</div>"
      ]
     },
     "metadata": {},
     "execution_count": 12
    }
   ],
   "metadata": {}
  },
  {
   "cell_type": "markdown",
   "source": [
    "# Simple Random forest regression"
   ],
   "metadata": {}
  },
  {
   "cell_type": "code",
   "execution_count": 13,
   "source": [
    "from sklearn.model_selection import train_test_split\r\n",
    "from sklearn.ensemble import RandomForestRegressor\r\n",
    "from sklearn.metrics import r2_score, mean_squared_error"
   ],
   "outputs": [],
   "metadata": {}
  },
  {
   "cell_type": "code",
   "execution_count": 14,
   "source": [
    "train_x = df.iloc[:, 4:-1]\r\n",
    "train_y = df.iloc[:, -1]\r\n",
    "\r\n",
    "X_train, X_test, y_train, y_test = train_test_split(train_x, train_y)\r\n",
    "RF = RandomForestRegressor()\r\n",
    "RF.fit(X_train, y_train)\r\n",
    "y_pred = RF.predict(X_test)\r\n",
    "\r\n",
    "print(f'MSE : {mean_squared_error(y_test, y_pred):.6}, R2 : {r2_score(y_test, y_pred):.6}')"
   ],
   "outputs": [
    {
     "output_type": "stream",
     "name": "stdout",
     "text": [
      "MSE : 0.129241, R2 : 0.0176973\n"
     ]
    }
   ],
   "metadata": {}
  },
  {
   "cell_type": "code",
   "execution_count": 15,
   "source": [
    "# MSE : 0.131453, R2 : 0.0139837"
   ],
   "outputs": [],
   "metadata": {}
  }
 ],
 "metadata": {
  "kernelspec": {
   "name": "python3",
   "display_name": "Python 3.8.8 64-bit ('pytorch': conda)"
  },
  "language_info": {
   "codemirror_mode": {
    "name": "ipython",
    "version": 3
   },
   "file_extension": ".py",
   "mimetype": "text/x-python",
   "name": "python",
   "nbconvert_exporter": "python",
   "pygments_lexer": "ipython3",
   "version": "3.8.8"
  },
  "interpreter": {
   "hash": "a51020773e7acc815bf9cd087b7db19c59aac7ba76518958a3ecd27fbf725693"
  }
 },
 "nbformat": 4,
 "nbformat_minor": 5
}