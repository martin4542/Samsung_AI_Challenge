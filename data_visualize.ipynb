{
 "cells": [
  {
   "cell_type": "code",
   "execution_count": 11,
   "source": [
    "import os\r\n",
    "import numpy as np\r\n",
    "import pandas as pd\r\n",
    "from openbabel import pybel\r\n",
    "from tqdm import tqdm"
   ],
   "outputs": [],
   "metadata": {}
  },
  {
   "cell_type": "code",
   "execution_count": 16,
   "source": [
    "def sdf_load(uid, train=True):\r\n",
    "    if train:\r\n",
    "        path = os.path.join('data', 'train_sdf', f'train_{uid}.sdf')\r\n",
    "    else:\r\n",
    "        path = os.path.join('data', 'train_sdf', f'test_{uid}.sdf')\r\n",
    "    return path"
   ],
   "outputs": [],
   "metadata": {}
  },
  {
   "cell_type": "code",
   "execution_count": 17,
   "source": [
    "train_df = pd.read_csv(os.path.join('data', 'train.csv'))\r\n",
    "train_df.head()"
   ],
   "outputs": [
    {
     "output_type": "execute_result",
     "data": {
      "text/plain": [
       "       uid                                             SMILES  S1_energy(eV)  \\\n",
       "0  train_0   CCC1CCCCN1C(=O)C(C)OC(=O)c1c(C)oc(-n2cccc2)c1C#N         4.6747   \n",
       "1  train_1  COc1ccc(Oc2ccc(N3C(=S)NC(c4ccccn4)C3c3cc(C)n(-...         3.6617   \n",
       "2  train_2   CC(=O)Nc1ccc(C(=O)[C@H](C)Sc2nnc(C3CCCCC3)o2)cc1         3.6420   \n",
       "3  train_3                          OC(CNC1CC1)CN1CCc2sccc2C1         4.8901   \n",
       "4  train_4                     CCNC(CCCC(F)(F)F)C1(OCC)CCOCC1         6.4967   \n",
       "\n",
       "   T1_energy(eV)  \n",
       "0         3.3809  \n",
       "1         3.4585  \n",
       "2         3.1787  \n",
       "3         3.7847  \n",
       "4         6.2724  "
      ],
      "text/html": [
       "<div>\n",
       "<style scoped>\n",
       "    .dataframe tbody tr th:only-of-type {\n",
       "        vertical-align: middle;\n",
       "    }\n",
       "\n",
       "    .dataframe tbody tr th {\n",
       "        vertical-align: top;\n",
       "    }\n",
       "\n",
       "    .dataframe thead th {\n",
       "        text-align: right;\n",
       "    }\n",
       "</style>\n",
       "<table border=\"1\" class=\"dataframe\">\n",
       "  <thead>\n",
       "    <tr style=\"text-align: right;\">\n",
       "      <th></th>\n",
       "      <th>uid</th>\n",
       "      <th>SMILES</th>\n",
       "      <th>S1_energy(eV)</th>\n",
       "      <th>T1_energy(eV)</th>\n",
       "    </tr>\n",
       "  </thead>\n",
       "  <tbody>\n",
       "    <tr>\n",
       "      <th>0</th>\n",
       "      <td>train_0</td>\n",
       "      <td>CCC1CCCCN1C(=O)C(C)OC(=O)c1c(C)oc(-n2cccc2)c1C#N</td>\n",
       "      <td>4.6747</td>\n",
       "      <td>3.3809</td>\n",
       "    </tr>\n",
       "    <tr>\n",
       "      <th>1</th>\n",
       "      <td>train_1</td>\n",
       "      <td>COc1ccc(Oc2ccc(N3C(=S)NC(c4ccccn4)C3c3cc(C)n(-...</td>\n",
       "      <td>3.6617</td>\n",
       "      <td>3.4585</td>\n",
       "    </tr>\n",
       "    <tr>\n",
       "      <th>2</th>\n",
       "      <td>train_2</td>\n",
       "      <td>CC(=O)Nc1ccc(C(=O)[C@H](C)Sc2nnc(C3CCCCC3)o2)cc1</td>\n",
       "      <td>3.6420</td>\n",
       "      <td>3.1787</td>\n",
       "    </tr>\n",
       "    <tr>\n",
       "      <th>3</th>\n",
       "      <td>train_3</td>\n",
       "      <td>OC(CNC1CC1)CN1CCc2sccc2C1</td>\n",
       "      <td>4.8901</td>\n",
       "      <td>3.7847</td>\n",
       "    </tr>\n",
       "    <tr>\n",
       "      <th>4</th>\n",
       "      <td>train_4</td>\n",
       "      <td>CCNC(CCCC(F)(F)F)C1(OCC)CCOCC1</td>\n",
       "      <td>6.4967</td>\n",
       "      <td>6.2724</td>\n",
       "    </tr>\n",
       "  </tbody>\n",
       "</table>\n",
       "</div>"
      ]
     },
     "metadata": {},
     "execution_count": 17
    }
   ],
   "metadata": {}
  },
  {
   "cell_type": "markdown",
   "source": [
    "# Remove abnormal sdf files"
   ],
   "metadata": {}
  },
  {
   "cell_type": "code",
   "execution_count": 18,
   "source": [
    "mols = dict()\r\n",
    "\r\n",
    "for n in tqdm(train_df.index):\r\n",
    "    mol = [i for i in pybel.readfile('sdf', sdf_load(n))]\r\n",
    "    if len(mol) > 0:\r\n",
    "        mols[n] = mol[0]"
   ],
   "outputs": [
    {
     "output_type": "stream",
     "name": "stderr",
     "text": [
      "100%|██████████| 30274/30274 [01:23<00:00, 363.97it/s]\n"
     ]
    }
   ],
   "metadata": {}
  },
  {
   "cell_type": "code",
   "execution_count": 22,
   "source": [
    "set([i for i in range(train_df.shape[0])]) - set(mols.keys())"
   ],
   "outputs": [
    {
     "output_type": "execute_result",
     "data": {
      "text/plain": [
       "{1688, 14782, 28906, 29068}"
      ]
     },
     "metadata": {},
     "execution_count": 22
    }
   ],
   "metadata": {}
  },
  {
   "cell_type": "code",
   "execution_count": 24,
   "source": [
    "mols_df = pd.DataFrame().from_dict({n:v.calcdesc() for n, v in mols.items()}).transpose()\r\n",
    "mols_df = mols_df.dropna(axis=1)\r\n",
    "mols_df.loc[:,'uid'] = [f'train_{n}' for n in mols.keys()]\r\n",
    "\r\n",
    "df = pd.merge(train_df, mols_df, 'outer', on='uid').dropna()\r\n",
    "df['y'] = df['S1_energy(eV)'] - df['T1_energy(eV)']\r\n",
    "\r\n",
    "df = df.reset_index(drop=True)\r\n",
    "df.head()"
   ],
   "outputs": [
    {
     "output_type": "execute_result",
     "data": {
      "text/plain": [
       "       uid                                             SMILES  S1_energy(eV)  \\\n",
       "0  train_0   CCC1CCCCN1C(=O)C(C)OC(=O)c1c(C)oc(-n2cccc2)c1C#N         4.6747   \n",
       "1  train_1  COc1ccc(Oc2ccc(N3C(=S)NC(c4ccccn4)C3c3cc(C)n(-...         3.6617   \n",
       "2  train_2   CC(=O)Nc1ccc(C(=O)[C@H](C)Sc2nnc(C3CCCCC3)o2)cc1         3.6420   \n",
       "3  train_3                          OC(CNC1CC1)CN1CCc2sccc2C1         4.8901   \n",
       "4  train_4                     CCNC(CCCC(F)(F)F)C1(OCC)CCOCC1         6.4967   \n",
       "\n",
       "   T1_energy(eV)  HBA1  HBA2  HBD  logP   MR         MW   nF  rotors  TPSA  \\\n",
       "0         3.3809  30.0   7.0  0.0   0.0  0.0  383.44090  0.0     7.0   0.0   \n",
       "1         3.4585  36.0   8.0  2.0   0.0  0.0  597.12636  0.0     7.0   0.0   \n",
       "2         3.1787  29.0   7.0  1.0   0.0  0.0  373.46922  0.0     7.0   0.0   \n",
       "3         3.7847  23.0   4.0  2.0   0.0  0.0  252.37570  0.0     5.0   0.0   \n",
       "4         6.2724  29.0   3.0  1.0   0.0  0.0  297.35695  3.0     9.0   0.0   \n",
       "\n",
       "        y  \n",
       "0  1.2938  \n",
       "1  0.2032  \n",
       "2  0.4633  \n",
       "3  1.1054  \n",
       "4  0.2243  "
      ],
      "text/html": [
       "<div>\n",
       "<style scoped>\n",
       "    .dataframe tbody tr th:only-of-type {\n",
       "        vertical-align: middle;\n",
       "    }\n",
       "\n",
       "    .dataframe tbody tr th {\n",
       "        vertical-align: top;\n",
       "    }\n",
       "\n",
       "    .dataframe thead th {\n",
       "        text-align: right;\n",
       "    }\n",
       "</style>\n",
       "<table border=\"1\" class=\"dataframe\">\n",
       "  <thead>\n",
       "    <tr style=\"text-align: right;\">\n",
       "      <th></th>\n",
       "      <th>uid</th>\n",
       "      <th>SMILES</th>\n",
       "      <th>S1_energy(eV)</th>\n",
       "      <th>T1_energy(eV)</th>\n",
       "      <th>HBA1</th>\n",
       "      <th>HBA2</th>\n",
       "      <th>HBD</th>\n",
       "      <th>logP</th>\n",
       "      <th>MR</th>\n",
       "      <th>MW</th>\n",
       "      <th>nF</th>\n",
       "      <th>rotors</th>\n",
       "      <th>TPSA</th>\n",
       "      <th>y</th>\n",
       "    </tr>\n",
       "  </thead>\n",
       "  <tbody>\n",
       "    <tr>\n",
       "      <th>0</th>\n",
       "      <td>train_0</td>\n",
       "      <td>CCC1CCCCN1C(=O)C(C)OC(=O)c1c(C)oc(-n2cccc2)c1C#N</td>\n",
       "      <td>4.6747</td>\n",
       "      <td>3.3809</td>\n",
       "      <td>30.0</td>\n",
       "      <td>7.0</td>\n",
       "      <td>0.0</td>\n",
       "      <td>0.0</td>\n",
       "      <td>0.0</td>\n",
       "      <td>383.44090</td>\n",
       "      <td>0.0</td>\n",
       "      <td>7.0</td>\n",
       "      <td>0.0</td>\n",
       "      <td>1.2938</td>\n",
       "    </tr>\n",
       "    <tr>\n",
       "      <th>1</th>\n",
       "      <td>train_1</td>\n",
       "      <td>COc1ccc(Oc2ccc(N3C(=S)NC(c4ccccn4)C3c3cc(C)n(-...</td>\n",
       "      <td>3.6617</td>\n",
       "      <td>3.4585</td>\n",
       "      <td>36.0</td>\n",
       "      <td>8.0</td>\n",
       "      <td>2.0</td>\n",
       "      <td>0.0</td>\n",
       "      <td>0.0</td>\n",
       "      <td>597.12636</td>\n",
       "      <td>0.0</td>\n",
       "      <td>7.0</td>\n",
       "      <td>0.0</td>\n",
       "      <td>0.2032</td>\n",
       "    </tr>\n",
       "    <tr>\n",
       "      <th>2</th>\n",
       "      <td>train_2</td>\n",
       "      <td>CC(=O)Nc1ccc(C(=O)[C@H](C)Sc2nnc(C3CCCCC3)o2)cc1</td>\n",
       "      <td>3.6420</td>\n",
       "      <td>3.1787</td>\n",
       "      <td>29.0</td>\n",
       "      <td>7.0</td>\n",
       "      <td>1.0</td>\n",
       "      <td>0.0</td>\n",
       "      <td>0.0</td>\n",
       "      <td>373.46922</td>\n",
       "      <td>0.0</td>\n",
       "      <td>7.0</td>\n",
       "      <td>0.0</td>\n",
       "      <td>0.4633</td>\n",
       "    </tr>\n",
       "    <tr>\n",
       "      <th>3</th>\n",
       "      <td>train_3</td>\n",
       "      <td>OC(CNC1CC1)CN1CCc2sccc2C1</td>\n",
       "      <td>4.8901</td>\n",
       "      <td>3.7847</td>\n",
       "      <td>23.0</td>\n",
       "      <td>4.0</td>\n",
       "      <td>2.0</td>\n",
       "      <td>0.0</td>\n",
       "      <td>0.0</td>\n",
       "      <td>252.37570</td>\n",
       "      <td>0.0</td>\n",
       "      <td>5.0</td>\n",
       "      <td>0.0</td>\n",
       "      <td>1.1054</td>\n",
       "    </tr>\n",
       "    <tr>\n",
       "      <th>4</th>\n",
       "      <td>train_4</td>\n",
       "      <td>CCNC(CCCC(F)(F)F)C1(OCC)CCOCC1</td>\n",
       "      <td>6.4967</td>\n",
       "      <td>6.2724</td>\n",
       "      <td>29.0</td>\n",
       "      <td>3.0</td>\n",
       "      <td>1.0</td>\n",
       "      <td>0.0</td>\n",
       "      <td>0.0</td>\n",
       "      <td>297.35695</td>\n",
       "      <td>3.0</td>\n",
       "      <td>9.0</td>\n",
       "      <td>0.0</td>\n",
       "      <td>0.2243</td>\n",
       "    </tr>\n",
       "  </tbody>\n",
       "</table>\n",
       "</div>"
      ]
     },
     "metadata": {},
     "execution_count": 24
    }
   ],
   "metadata": {}
  },
  {
   "cell_type": "markdown",
   "source": [
    "# Simple Random forest regression"
   ],
   "metadata": {}
  },
  {
   "cell_type": "code",
   "execution_count": 25,
   "source": [
    "from sklearn.model_selection import train_test_split\r\n",
    "from sklearn.ensemble import RandomForestRegressor\r\n",
    "from sklearn.metrics import r2_score, mean_squared_error"
   ],
   "outputs": [],
   "metadata": {}
  },
  {
   "cell_type": "code",
   "execution_count": 29,
   "source": [
    "train_x = df.iloc[:, 4:-1]\r\n",
    "train_y = df.iloc[:, -1]\r\n",
    "\r\n",
    "X_train, X_test, y_train, y_test = train_test_split(train_x, train_y)\r\n",
    "RF = RandomForestRegressor()\r\n",
    "RF.fit(X_train, y_train)\r\n",
    "y_pred = RF.predict(X_test)\r\n",
    "\r\n",
    "print(f'MSE : {mean_squared_error(y_test, y_pred):.6}, R2 : {r2_score(y_test, y_pred):.6}')"
   ],
   "outputs": [
    {
     "output_type": "stream",
     "name": "stdout",
     "text": [
      "MSE : 0.127922, R2 : 0.0391623\n"
     ]
    }
   ],
   "metadata": {}
  },
  {
   "cell_type": "code",
   "execution_count": null,
   "source": [],
   "outputs": [],
   "metadata": {}
  }
 ],
 "metadata": {
  "kernelspec": {
   "name": "python3",
   "display_name": "Python 3.8.8 64-bit ('pytorch': conda)"
  },
  "language_info": {
   "codemirror_mode": {
    "name": "ipython",
    "version": 3
   },
   "file_extension": ".py",
   "mimetype": "text/x-python",
   "name": "python",
   "nbconvert_exporter": "python",
   "pygments_lexer": "ipython3",
   "version": "3.8.8"
  },
  "interpreter": {
   "hash": "a51020773e7acc815bf9cd087b7db19c59aac7ba76518958a3ecd27fbf725693"
  }
 },
 "nbformat": 4,
 "nbformat_minor": 5
}